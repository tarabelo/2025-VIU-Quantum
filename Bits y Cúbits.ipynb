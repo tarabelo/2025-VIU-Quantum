{
  "nbformat": 4,
  "nbformat_minor": 0,
  "metadata": {
    "colab": {
      "provenance": [],
      "toc_visible": true,
      "cell_execution_strategy": "setup",
      "authorship_tag": "ABX9TyPcOxNARTjlaeyZk5rbBYUy",
      "include_colab_link": true
    },
    "kernelspec": {
      "name": "python3",
      "display_name": "Python 3"
    },
    "language_info": {
      "name": "python"
    }
  },
  "cells": [
    {
      "cell_type": "markdown",
      "metadata": {
        "id": "view-in-github",
        "colab_type": "text"
      },
      "source": [
        "<a href=\"https://colab.research.google.com/github/tarabelo/2024-VIU-Quantum/blob/main/Bits%20y%20C%C3%BAbits.ipynb\" target=\"_parent\"><img src=\"https://colab.research.google.com/assets/colab-badge.svg\" alt=\"Open In Colab\"/></a>"
      ]
    },
    {
      "cell_type": "code",
      "source": [
        "# Instalamos qiskit en el notebook\n",
        "!pip install qiskit qiskit-aer pylatexenc"
      ],
      "metadata": {
        "id": "k-c7Y_qZHhJK"
      },
      "execution_count": null,
      "outputs": []
    },
    {
      "cell_type": "code",
      "source": [
        "import qiskit\n",
        "import qiskit_aer\n",
        "print('Qiskit version ',qiskit.__version__)\n",
        "print('Aer simulator version ', qiskit_aer.__version__)"
      ],
      "metadata": {
        "id": "f4kn1hn81zY-"
      },
      "execution_count": null,
      "outputs": []
    },
    {
      "cell_type": "markdown",
      "source": [
        "#**Bits y Cúbits**\n",
        "\n",
        "Contenidos\n",
        "\n",
        "1. [Bits clásicos como vectores](#bits)\n",
        "2. [Bits cuánticos o cúbits](#cubits)\n",
        "3. [Medida del estado](#medida)\n",
        "3. [Observables, valor esperado y matrices de Pauli](#observables)\n",
        "4. [Errores, matrices de densidad y estados mezcla](#errores)"
      ],
      "metadata": {
        "id": "z9Uia7vzrGrD"
      }
    },
    {
      "cell_type": "markdown",
      "source": [
        "<a name=\"bits\"></a>\n",
        "# **Bits clásicos como vectores**\n",
        "\n",
        "Podemos expresar 1 bit clásico como un vector de tamaño 2:\n",
        "\n",
        " $$\n",
        "|b\\rangle = \\begin{bmatrix}p_0 \\\\p_1 \\end{bmatrix}\n",
        "$$\n",
        "\n",
        "con $p_i \\in \\{0,1\\}$ y $p_0+p_1 = 1$.\n",
        "\n",
        "Así:\n",
        "\n",
        "$$\n",
        "|0\\rangle = \\begin{bmatrix}1 \\\\0 \\end{bmatrix}\\qquad |1\\rangle = \\begin{bmatrix}0 \\\\1 \\end{bmatrix}\n",
        "$$"
      ],
      "metadata": {
        "id": "ZM-3DG_3T_5Y"
      }
    },
    {
      "cell_type": "markdown",
      "source": [
        "## Notación de Dirac"
      ],
      "metadata": {
        "id": "_4Sz5t-Z5vOB"
      }
    },
    {
      "cell_type": "markdown",
      "source": [
        "Ket: $|\\,\\rangle$\n",
        "\n",
        "Bra: $\\langle\\,|$\n",
        "\n",
        "$$\n",
        "|v\\rangle =\n",
        "\\begin{bmatrix}\n",
        "v_0 \\\\ v_1\\\\ \\vdots \\\\v_{n-1}\n",
        "\\end{bmatrix}\n",
        "$$\n",
        "\n",
        "con $v_i\\in \\mathbb{C}$.\n",
        "\n",
        "\n",
        "$$\n",
        "\\langle v| = (|v\\rangle)^\\dagger =\n",
        "\\begin{bmatrix}\n",
        "v_0^* & v_1^* & \\cdots & v_{n-1}^*\n",
        "\\end{bmatrix}\n",
        "$$\n",
        "\n",
        "donde el símbolo $\\dagger$ representa la matriz traspuesta conjugada\n",
        "\n",
        "### Operaciones\n",
        "\n",
        "Sean $|u\\rangle$ y $|v\\rangle$ vectores de dimensión n\n",
        "\n"
      ],
      "metadata": {
        "id": "hGRhRRwO50dq"
      }
    },
    {
      "cell_type": "markdown",
      "source": [
        "#### Producto escalar o interno\n",
        "$$\n",
        "\\langle v|u\\rangle =\n",
        "\\begin{bmatrix}\n",
        "v_0^* & v_1^* & \\cdots & v_{n-1}^*\n",
        "\\end{bmatrix}\\cdot\n",
        "\\begin{bmatrix}\n",
        "u_0 \\\\ u_1\\\\ \\vdots \\\\u_{n-1}\n",
        "\\end{bmatrix} =\n",
        "v_0^*u_0 + v_1^*u_1 + \\cdots + v_{n-1}^*u_{n-1} \\in \\mathbb{C}\n",
        "$$\n",
        "\n",
        "El módulo (o norma) del vector es:\n",
        "\n",
        "$$\n",
        "\\lVert|v\\rangle\\|^2 = \\langle v|v\\rangle = v_0^*v_0 + v_1^*v_1 + \\cdots + v_{n-1}^*v_{n-1} =\n",
        "|v_0|^2 + |v_1|^2 + \\cdots + |v_{n-1}|^2 \\in \\mathbb{R}\n",
        "$$\n",
        "\n",
        "Esta norma es siempre positiva, $\\||v\\rangle\\|\\ge 0$, y $\\||v\\rangle\\|= 0\\Leftrightarrow |v\\rangle = 0$\n",
        "\n",
        "**Propiedades del producto interno:**\n",
        "\n",
        "Linealidad por la izquierda:\n",
        "- $\\langle (\\alpha v+\\beta w)|u\\rangle = \\alpha\\langle v|u\\rangle+\\beta\\langle w|u\\rangle$ con $\\alpha,\\beta \\in \\mathbb{C}$\n",
        "\n",
        "Linealidad conjugada por la derecha:\n",
        "- $\\langle v|(\\alpha u+\\beta w)\\rangle = \\alpha^*\\langle v|u\\rangle+\\beta^*\\langle v|w\\rangle$ con $\\alpha,\\beta \\in \\mathbb{C}$\n",
        "\n",
        "Hermiticidad:\n",
        "- $\\langle v|u\\rangle = (\\langle u|v\\rangle)^*$\n"
      ],
      "metadata": {
        "id": "H8kW2Zr-6tbP"
      }
    },
    {
      "cell_type": "markdown",
      "source": [
        "#### Producto externo (*outer product*)\n",
        "El producto externo de dos vectores de dimensión $n$ es una matriz de dimensión $n\\times n$\n",
        "\n",
        "$$\n",
        "|u\\rangle\\langle v| =\n",
        "\\begin{bmatrix}\n",
        "u_0 \\\\ u_1\\\\ \\vdots \\\\u_{n-1}\n",
        "\\end{bmatrix}\\cdot\n",
        "\\begin{bmatrix}\n",
        "v_0^* & v_1^* & \\cdots & v_{n-1}^*\n",
        "\\end{bmatrix}\n",
        " =\n",
        "\\begin{bmatrix}\n",
        "u_0v_0^* & u_0v_1^* & \\cdots & u_0v_{n-1}^*\\\\\n",
        "u_1v_0^* & u_1v_1^* & \\cdots & u_1v_{n-1}^*\\\\\n",
        "\\vdots & \\vdots & \\ddots & \\vdots\\\\\n",
        "u_{n-1}v_0^* & u_{n-1}v_1^* & \\cdots & u_{n-1}v_{n-1}^*\\\\\n",
        "\\end{bmatrix}\n",
        "$$\n",
        "\n",
        "**Propiedades del producto externo:**\n",
        "\n",
        "- $|u\\rangle\\langle v| = (|v\\rangle\\langle u|)^\\dagger$\n",
        "<p>\n",
        "- $(|u\\rangle + |v\\rangle)(\\langle w|+\\langle x|) = |u\\rangle(\\langle w|+\\langle x|)+|v\\rangle(\\langle w|+\\langle x|) = |u\\rangle\\langle w|+|u\\rangle\\langle x|+|v\\rangle\\langle w|+|v\\rangle\\langle x|$\n",
        "<p>\n",
        "- $\\alpha(|u\\rangle\\langle v|) =  (\\alpha|u\\rangle)\\langle v| = |u\\rangle(\\alpha\\langle v|)$ con $\\alpha\\in \\mathbb{C}$\n",
        "<p>\n",
        "- $(|u\\rangle\\langle v|)|w\\rangle = |u\\rangle(\\langle v|w\\rangle) = (\\langle v|w\\rangle)|u\\rangle$ ya que $\\langle v|w\\rangle$ es un escalar."
      ],
      "metadata": {
        "id": "CgQNnF0g54ae"
      }
    },
    {
      "cell_type": "markdown",
      "source": [
        "#### Producto tensor (o Kronecker)\n",
        "\n",
        " El producto tensor de un vector $|u\\rangle$ de m elementos y un vector $|v\\rangle$ de n elementos es un vector de $m\\cdot n$ elementos dado por:\n",
        " $$\n",
        " |u\\rangle\\otimes|v\\rangle \\equiv |u\\rangle|v\\rangle \\equiv |uv\\rangle =\n",
        "  \\begin{bmatrix}\n",
        "u_0\n",
        "\\begin{bmatrix}\n",
        "v_0 \\\\ v_1\\\\ \\vdots \\\\v_{n-1}\n",
        "\\end{bmatrix}\\\\\n",
        "u_1\n",
        "\\begin{bmatrix}\n",
        "v_0 \\\\ v_1\\\\ \\vdots \\\\v_{n-1}\n",
        "\\end{bmatrix}\\\\\n",
        "\\vdots\\\\\n",
        "u_{m-1}\n",
        "\\begin{bmatrix}\n",
        "v_0 \\\\ v_1\\\\ \\vdots \\\\v_{n-1}\n",
        "\\end{bmatrix}\n",
        "\\end{bmatrix} =\n",
        " \\begin{bmatrix}\n",
        "u_0v_0\\\\\n",
        "u_0v_1\\\\\n",
        "\\vdots\\\\\n",
        "u_0v_{n-1}\\\\\n",
        "u_1v_0\\\\\n",
        "u_1v_1\\\\\n",
        "\\vdots\\\\\n",
        "u_1v_{n-1}\\\\\n",
        "\\vdots\\\\\n",
        "u_{m-1}v_0\\\\\n",
        "u_{m-1}v_1\\\\\n",
        "\\vdots\\\\\n",
        "u_{m-1}v_{n-1}\\\\\n",
        "\\end{bmatrix}\n",
        "$$\n",
        "\n",
        "**Propiedades del producto tensor:**\n",
        "\n",
        "Asociatividad y traspuesta:\n",
        "\n",
        "- $|u\\rangle\\otimes (|v\\rangle+|w\\rangle) = |u\\rangle\\otimes |v\\rangle+|u\\rangle\\otimes |w\\rangle$\n",
        "- $(|v\\rangle+|w\\rangle)\\otimes |u\\rangle = |v\\rangle\\otimes |u\\rangle+|w\\rangle\\otimes |u\\rangle$\n",
        "- $(|u\\rangle\\otimes |v\\rangle)\\otimes |w\\rangle = |u\\rangle\\otimes (|v\\rangle \\otimes |w\\rangle)$\n",
        "- $(|u\\rangle\\otimes |v\\rangle)^\\dagger = |u\\rangle^\\dagger \\otimes |v\\rangle^\\dagger$\n",
        "- $(\\alpha|u\\rangle)\\otimes |v\\rangle = |u\\rangle\\otimes (\\alpha|v\\rangle) = \\alpha(|u\\rangle\\otimes |v\\rangle)$, con $\\alpha\\in \\mathbb{C}$\n",
        "\n",
        "No-conmutatividad (en general):\n",
        "\n",
        "- $|u\\rangle \\otimes |v\\rangle \\neq |v\\rangle\\otimes |u\\rangle$\n",
        "\n",
        "Propiedad del producto mixto:\n",
        "\n",
        "- $\\langle uv|wx\\rangle = \\langle u\\otimes v|w\\otimes x\\rangle = \\langle u|w\\rangle\\langle v|x\\rangle$\n",
        "- $|uv\\rangle\\langle wx| = (|u\\rangle\\otimes |v\\rangle)(\\langle w|\\otimes \\langle x|) = |u\\rangle \\langle w|\\otimes |v\\rangle\\langle x|$\n",
        "\n",
        "Esta última expresión es un producto tensor de matrices.\n"
      ],
      "metadata": {
        "id": "OPGx5V0I5_Bm"
      }
    },
    {
      "cell_type": "markdown",
      "source": [
        "## Múltiples bits\n",
        "\n",
        "Un número de 2 bits $|ab\\rangle$, con $a,b\\in\\{0,1\\}$ se puede expresar como el producto tensor de los bits individuales:\n",
        "\n",
        "$$\n",
        "|ab\\rangle = |a\\rangle\\otimes |b\\rangle = \\begin{bmatrix}a_{0} \\\\ a_{1}\\end{bmatrix}\\otimes \\begin{bmatrix}b_{0} \\\\ b_1\\end{bmatrix} = \\begin{bmatrix} a_{0}b_0\\\\ a_0b_1 \\\\ a_1b_0 \\\\ a_1b_1\\end{bmatrix} = \\begin{bmatrix} p_{0}\\\\ p_1 \\\\ p_2 \\\\ p_{3}\\end{bmatrix}\n",
        "$$\n",
        "\n",
        "con $p_i \\in \\{0,1\\}$. Es fácil verificar que se sigue manteniendo: $p_0+p_1+p_2+p_3 = 1$.\n",
        "\n",
        "----------------------------\n",
        "\n",
        "**Ejemplo:**\n",
        "\n",
        "\n",
        "$$\n",
        "|00\\rangle = |0\\rangle\\otimes |0\\rangle = \\begin{bmatrix}1 \\\\ 0\\end{bmatrix}\\otimes \\begin{bmatrix}1 \\\\ 0\\end{bmatrix} = \\begin{bmatrix}1 \\\\ 0 \\\\ 0 \\\\ 0\\end{bmatrix}\\\\\n",
        "|01\\rangle = |0\\rangle\\otimes |1\\rangle  = \\begin{bmatrix}1 \\\\ 0\\end{bmatrix}\\otimes \\begin{bmatrix}0 \\\\ 1\\end{bmatrix} = \\begin{bmatrix}0 \\\\ 1 \\\\ 0 \\\\ 0\\end{bmatrix}\\\\\n",
        "|10\\rangle = |1\\rangle\\otimes |0\\rangle  = \\begin{bmatrix}0 \\\\ 1\\end{bmatrix}\\otimes \\begin{bmatrix}1 \\\\ 0\\end{bmatrix} = \\begin{bmatrix}0 \\\\ 0 \\\\ 1 \\\\ 0\\end{bmatrix}\\\\\n",
        "|11\\rangle = |1\\rangle\\otimes |1\\rangle = \\begin{bmatrix}0 \\\\ 1\\end{bmatrix}\\otimes \\begin{bmatrix}0 \\\\ 1\\end{bmatrix} = \\begin{bmatrix}0 \\\\ 0 \\\\ 0 \\\\ 1\\end{bmatrix}\\\\\n",
        "$$\n",
        "\n",
        "----------------------------\n",
        "\n",
        "Podemos escribir por tanto:\n",
        "\n",
        "$$\n",
        "|ab\\rangle = \\begin{bmatrix} p_{0}\\\\ p_1 \\\\ p_2 \\\\ p_{3}\\end{bmatrix} = p_0|00\\rangle + p_1|01\\rangle + p_2 |10\\rangle + p_3|11\\rangle\n",
        "$$\n",
        "\n",
        "En general, vamos a poder escribir un número de $n$ bits como:\n",
        "$$\n",
        "|B\\rangle = p_0|00\\ldots00\\rangle +p_1|00\\ldots01\\rangle + p_2|00\\ldots10\\rangle +\\cdots + p_{2^n-1} |11\\ldots11\\rangle= \\sum_{i=0}^{2^{n}-1}p_i |i\\rangle\n",
        "$$\n",
        "\n",
        "con $p_i \\in \\{0,1\\}$ y $\\sum_{i=0}^{n-1}p_i = 1$, siendo $p_i$ la probabilidad de que el número sea $i$."
      ],
      "metadata": {
        "id": "RLe8XXkV6HmV"
      }
    },
    {
      "cell_type": "markdown",
      "source": [
        "\n",
        "\n",
        "---\n",
        "\n",
        "\n",
        "\n",
        "---\n",
        "\n",
        "\n",
        "\n",
        "---\n",
        "\n"
      ],
      "metadata": {
        "id": "UC4Bdr_qB7pP"
      }
    },
    {
      "cell_type": "markdown",
      "source": [
        "<a name=\"cubits\"></a>\n",
        "# **Bits cuánticos o cúbits**"
      ],
      "metadata": {
        "id": "4J5cq9JVEzXd"
      }
    },
    {
      "cell_type": "markdown",
      "source": [
        "## Vector de estado\n",
        "\n",
        "Un cúbit puede verse como una generalización de un bit, representandose mediante un vector, denominado **vector de estado**:\n",
        "\n",
        "$$\n",
        "|\\psi\\rangle = \\begin{bmatrix}a_0 \\\\a_1 \\end{bmatrix}\n",
        "$$\n",
        "\n",
        "con $a_i \\in \\mathbb{C}$ y $|a_0|^2+|a_1|^2 = 1$.\n",
        "\n",
        "$a_0$ y $a_1$ son [amplitudes de probabilidad](https://en.wikipedia.org/wiki/Probability_amplitude).\n",
        "\n",
        "Los valores $|a_0|^2$ y $|a_1|^2$ representan la **probabilidad** de que al medir el cúbit obtengamos un 0 o un 1.\n",
        "\n",
        "<details>\n",
        "<summary>Resumen sobre números complejos</summary>\n",
        "\n",
        "Números de la forma $a=a_r+ia_i$, con $i=\\sqrt{-1}$ y:\n",
        "\n",
        "- $a_r$ componente real, $a_r = \\Re(a)$\n",
        "- $a_i$ componente imaginaria, $a_i = \\Im(a)$\n",
        "\n",
        "con $a_r, a_i \\in \\mathbb{R}$\n",
        "\n",
        "El conjunto de los números complejos se denota por $\\mathbb{C}$. Resulta evidente que $\\mathbb{R}\\subset \\mathbb{C}$.\n",
        "\n",
        "**Operaciones con complejos**\n",
        "\n",
        "Sean $a,b \\in \\mathbb{C}$, $a=a_r+ia_i$ $b=b_r+ib_i$\n",
        "\n",
        "- Suma\n",
        "$$\n",
        "a+b = (a_r+b_r)+i(a_i+b_i) \\in \\mathbb{C}\n",
        "$$\n",
        "\n",
        "- Producto\n",
        "Recordando que $i^2=-1$:\n",
        "$$\n",
        "a b = (a_r+ia_i)(b_r+ib_i)=(a_rb_r-a_ib_i)+i(a_rb_i+a_ib_r) \\in \\mathbb{C}\n",
        "$$\n",
        "\n",
        "- Conjugado\n",
        "$$\n",
        "a^* = a_r-ia_i  \\in \\mathbb{C}\n",
        "$$\n",
        "\n",
        "- Norma (o módulo)\n",
        "$$\n",
        "|a|^2 = a^*a = (a_r-ia_i)(a_r+ia_i) = a_r^2+ia_ra_i-ia_ia_r+a_i^2 = a_r^2 + a_i^2 \\Rightarrow |a| = +\\sqrt{a_r^2 + a_i^2} \\in \\mathbb{R}\n",
        "$$\n",
        "\n",
        "- División\n",
        "$$\n",
        "\\frac{a}{b} = \\frac{ab^*}{bb^*} = \\frac{(a_r+ia_i)(b_r-ib_i)}{|b|^2} = \\frac{(a_rb_r+a_ib_i)+i(a_ib_r-a_rb_i)}{|b|^2} \\in \\mathbb{C}\n",
        "$$\n",
        "\n",
        "**Forma polar**\n",
        "\n",
        "[Formula de Euler](https://en.wikipedia.org/wiki/Euler%27s_formula): $e^{i\\theta} = \\cos\\theta + i\\sin\\theta$ con $\\theta\\in \\mathbb{R}$ denominada *fase*\n",
        "\n",
        "<center><img src=\"https://drive.google.com/uc?export=view&id=1QCxOHx53EED6Unfc3DAynZwsESy0LJvs\" alt=\"Complejo en forma polar\" width=\"600\"  /></center>\n",
        "\n",
        "Notar también que $e^{i\\theta} = e^{i(\\theta+2k\\pi)}$ con $k\\in \\mathbb{Z}$\n",
        "\n",
        "*Ejemplos*\n",
        "\n",
        "- $e^{i0} = \\cos 0 + i\\sin 0 = 1$\n",
        "<p></p>\n",
        "- $e^{i2\\pi} = \\cos(2\\pi) + i\\sin(2\\pi) = 1$\n",
        "<p></p>\n",
        "- $e^{\\pm i\\pi} = \\cos(\\pm\\pi) + i\\sin(\\pm\\pi) = -1$\n",
        "<p></p>\n",
        "- $e^{i\\pi/2} = \\cos(\\pi/2) + i\\sin(\\pi/2) = i$\n",
        "<p></p>\n",
        "- $e^{-i\\pi/2} = \\cos(-\\pi/2) + i\\sin(-\\pi/2) = -i$\n",
        "<p></p>\n",
        "- $e^{i\\pi/4} = \\cos(\\pi/4) + i\\sin(\\pi/4) = \\tfrac{1}{\\sqrt{2}}(1+i)$\n",
        "<p></p>\n",
        "- $e^{-i\\pi/4} = \\cos(-\\pi/4) + i\\sin(-\\pi/4) = \\tfrac{1}{\\sqrt{2}}(1-i)$\n",
        "\n",
        "**Operaciones en forma polar**\n",
        "\n",
        "Sean $a,b \\in \\mathbb{C}$, $a=|a|e^{i\\theta}$, $b=|b|e^{i\\varphi}$, con $|a|, |b|, \\theta, \\varphi \\in \\mathbb{R}$.\n",
        "\n",
        "\n",
        "- Producto\n",
        "$$\n",
        "a b = |a||b|e^{i(\\theta+\\varphi)} = |ab| (\\cos(\\theta+\\varphi)+i\\sin(\\theta+\\varphi))\n",
        "$$\n",
        "\n",
        "- Conjugado\n",
        "$$\n",
        "a^* = |a|e^{-i\\theta} = |a| (\\cos\\theta - i\\sin\\theta)\n",
        "$$\n",
        "\n",
        "- División\n",
        "$$\n",
        "\\frac{a}{b} = \\frac{|a|}{|b|}e^{i(\\theta-\\varphi)} = \\frac{|a|}{|b|}(\\cos(\\theta-\\varphi)+i\\sin(\\theta-\\varphi))\n",
        "$$\n",
        "\n",
        "- Potencia\n",
        "$$\n",
        "a^n = |a|^ne^{in\\theta} = |a|^n (\\cos(n\\theta) - i\\sin(n\\theta))\n",
        "$$\n",
        "\n",
        "- Exponenciación\n",
        "$$\n",
        "e^{(x+yi)} = e^xe^{iy} = e^x(\\cos(y)+i\\sin(y))\n",
        "$$\n",
        "\n",
        "- Raíces\n",
        "$$\n",
        "\\sqrt[n]{a} = a^\\frac{1}{n} = |a|^\\frac{1}{n}e^{i\\frac{\\theta+2k\\pi}{n}}\n",
        "$$\n",
        "</details>\n",
        "\n"
      ],
      "metadata": {
        "id": "Edjay7tgCm87"
      }
    },
    {
      "cell_type": "markdown",
      "source": [
        "**Base canónica**\n",
        "\n",
        "Como seguimos teniendo:\n",
        "\n",
        "$$\n",
        "|0\\rangle = \\begin{bmatrix}1 \\\\0 \\end{bmatrix}\\qquad |1\\rangle = \\begin{bmatrix}0 \\\\1 \\end{bmatrix}\n",
        "$$\n",
        "\n",
        "podemos escribir:\n",
        "\n",
        "$$\n",
        "|\\psi\\rangle = a_0|0\\rangle + a_1|1\\rangle\n",
        "$$\n",
        "\n",
        "Matemáticamente, $|\\psi\\rangle$ es un vector unitario en un [espacio de Hilbert](https://en.wikipedia.org/wiki/Hilbert_space) de componentes complejas bidimensional denominado _espacio de estados_.\n",
        "\n",
        "La base canónica de este espacio es $\\{|0\\rangle,|1\\rangle\\}$ (también llamada base estándar o base computacional).\n",
        "\n",
        "----------------------------\n",
        "\n",
        "**Ejemplos**\n",
        "\n",
        "1. $|\\psi\\rangle=|0\\rangle,\\quad |\\psi\\rangle=|1\\rangle$\n",
        "<p></p>\n",
        "2. $|\\psi\\rangle=|+\\rangle = \\tfrac{1}{\\sqrt{2}}(|0\\rangle+|1\\rangle),\\quad |\\psi\\rangle=|-\\rangle = \\tfrac{1}{\\sqrt{2}}(|0\\rangle-|1\\rangle)$\n",
        "<p></p>\n",
        "3. $|\\psi\\rangle=|\\!\\!\\circlearrowleft\\rangle \\equiv |+i\\rangle = \\tfrac{1}{\\sqrt{2}}(|0\\rangle+e^{i\\frac{\\pi}{2}}|1\\rangle) = \\tfrac{1}{\\sqrt{2}}(|0\\rangle+i|1\\rangle),\\quad |\\psi\\rangle=|\\!\\!\\circlearrowright\\rangle =  |-i\\rangle = \\tfrac{1}{\\sqrt{2}}(|0\\rangle+e^{-i\\frac{\\pi}{2}}|1\\rangle) = \\tfrac{1}{\\sqrt{2}}(|0\\rangle-i|1\\rangle)$\n",
        "\n",
        "----------------------------\n",
        "\n",
        "Tanto $\\{|+\\rangle, |-\\rangle\\}$ como $\\{|\\!\\!+i\\rangle, |\\!\\!-i\\rangle\\}$ son bases del espacio de Hilbert."
      ],
      "metadata": {
        "id": "prCW_1rr3REw"
      }
    },
    {
      "cell_type": "markdown",
      "source": [
        "## Esfera de Bloch<a id=\"bloch\"></a>\n",
        "\n",
        "Si en el vector de estado anterior usamos la forma polar para $a_0$ y $a_1$:\n",
        "\n",
        "$$\n",
        "|\\psi\\rangle = |a_0|e^{i\\varphi_0}|0\\rangle + |a_1|e^{i\\varphi_1}|1\\rangle =\n",
        "e^{i\\varphi_0}\\left[|a_0||0\\rangle + |a_1|e^{i(\\varphi_1-\\varphi_0)}|1\\rangle\\right]\n",
        "$$\n",
        "\n",
        "El término $e^{i\\varphi_0}$ es una fase global que no tiene significado físico y se puede eliminar.\n",
        "\n",
        "Además, como $|a_0|^2+|a_1|^2 = 1$ existe un $\\theta\\in \\mathbb{R}, 0\\le\\theta\\le\\pi$ tal que:\n",
        "\n",
        "$$\n",
        "|a_0| = \\cos{\\tfrac{\\theta}{2}}\\\\\n",
        "|a_1| = \\sin{\\tfrac{\\theta}{2}}\n",
        "$$\n",
        "\n",
        "Si llamamos $\\phi = \\varphi_1-\\varphi_0$ podemos escribir el cúbit como:\n",
        "\n",
        "$$\n",
        "|\\psi\\rangle = \\cos{\\tfrac{\\theta}{2}}|0\\rangle + e^{i\\phi}\\sin{\\tfrac{\\theta}{2}}|1\\rangle\n",
        "$$\n",
        "con $\\theta, \\phi \\in \\mathbb{R}, 0\\le\\theta\\le\\pi, 0\\le\\phi\\lt2\\pi$\n",
        "\n",
        "Si interpretamos $\\theta$ y $\\phi$ como [coordenadas esféricas](https://es.wikipedia.org/wiki/Coordenadas_esf%C3%A9ricas) de un vector de módulo $1$, podemos representar el vector de estado de un cúbit como un vector en la superficie de una esfera, conocida como _esfera de Bloch.\n",
        "\n",
        "\n",
        "<center><img src=\"https://drive.google.com/uc?export=view&id=1x3wgeVRY8-KFC0g-deFSZFE7x-5M_jPP\" alt=\"Esfera de Bloch\" width=\"600\"  /></center>\n",
        "\n",
        "Las coordenadas cartesianas $(r_x,r_y,r_z)$ de un punto en la esfera de Bloch se obtienen mediante las ecuaciones de cambio de coordenadas (con $|\\vec{r}|=1$):\n",
        "\n",
        "$$\n",
        "\\vec{r} = \\begin{pmatrix}\n",
        "r_x\\\\r_y\\\\r_z\n",
        "\\end{pmatrix} =\n",
        "\\begin{pmatrix}\n",
        "\\sin\\theta\\cos\\phi\\\\\\sin\\theta\\sin\\phi\\\\\\cos\\theta\n",
        "\\end{pmatrix}\n",
        "$$\n",
        "con $r_x,r_y, r_z\\in[-1,1]$ y $|\\vec{r}| = \\sqrt{r_x^2+r_y^2+r_z^2}= 1$\n",
        "\n",
        "### Estados sobre los ejes\n",
        "\n",
        "\n",
        "1. $\\theta = 0, \\phi $ arbitrario $\\Rightarrow$\n",
        "$$|\\psi\\rangle = \\cos(0)|0\\rangle +e^{i\\phi}\\sin(0)|1\\rangle = |0\\rangle$$ $$\\vec{r} = \\begin{pmatrix}0\\\\0\\\\1\\end{pmatrix}$$\n",
        "<p></p>\n",
        "1. $\\theta = \\pi, \\phi $ arbitrario $ \\Rightarrow$\n",
        "$$|\\psi\\rangle = \\cos\\frac{\\pi}{2}|0\\rangle +e^{i\\phi}\\sin\\frac{\\pi}{2}|1\\rangle = |1\\rangle$$ $$\\vec{r} = \\begin{pmatrix}0\\\\0\\\\-1\\end{pmatrix}$$\n",
        "<p></p>\n",
        "1. $\\theta = \\frac{\\pi}{2}, \\phi = 0 \\Rightarrow $\n",
        "$$|\\psi\\rangle = \\cos\\frac{\\pi}{4}|0\\rangle +e^{0}\\sin\\frac{\\pi}{4}|1\\rangle = \\tfrac{1}{\\sqrt{2}}(|0\\rangle+|1\\rangle) = |+\\rangle$$ $$\\vec{r} = \\begin{pmatrix}1\\\\0\\\\0\\end{pmatrix}$$\n",
        "<p></p>\n",
        "1. $\\theta = \\frac{\\pi}{2}, \\phi = \\pi \\Rightarrow $\n",
        "$$|\\psi\\rangle = \\cos\\frac{\\pi}{4}|0\\rangle +e^{i\\pi}\\sin\\frac{\\pi}{4}|1\\rangle = \\tfrac{1}{\\sqrt{2}}(|0\\rangle-|1\\rangle) = |-\\rangle$$ $$\\vec{r} = \\begin{pmatrix}-1\\\\0\\\\0\\end{pmatrix}$$\n",
        "<p></p>\n",
        "1. $\\theta = \\frac{\\pi}{2}, \\phi = \\frac{\\pi}{2} \\Rightarrow $\n",
        "$$|\\psi\\rangle = \\cos\\frac{\\pi}{4}|0\\rangle +e^{i\\frac{\\pi}{2}}\\sin\\frac{\\pi}{4}|1\\rangle = \\tfrac{1}{\\sqrt{2}}(|0\\rangle+i|1\\rangle) = |+i\\rangle$$ $$\\vec{r} = \\begin{pmatrix}0\\\\1\\\\0\\end{pmatrix}$$\n",
        "<p></p>\n",
        "1. $\\theta = \\frac{\\pi}{2}, \\phi = \\frac{3\\pi}{2} \\Rightarrow $\n",
        "$$|\\psi\\rangle = \\cos\\frac{\\pi}{4}|0\\rangle +e^{i\\frac{3\\pi}{2}}\\sin\\frac{\\pi}{4}|1\\rangle = \\tfrac{1}{\\sqrt{2}}(|0\\rangle-i|1\\rangle) = |-i\\rangle$$ $$\\vec{r} = \\begin{pmatrix}0\\\\-1\\\\0\\end{pmatrix}$$"
      ],
      "metadata": {
        "id": "sfmG4MGSFOKE"
      }
    },
    {
      "cell_type": "markdown",
      "source": [
        "## Fase global y relativa<a id=\"fase\"></a>\n",
        "\n",
        "El término $e^{i\\varphi_0}$ es una **fase global** sin significado físico, es decir, dos estados cuánticos que se diferencian en una fase global son idénticos:\n",
        "\n",
        "$$\n",
        "|\\psi\\rangle \\equiv e^{i\\phi}|\\psi\\rangle \\quad \\forall \\phi \\in \\mathbb{R}\n",
        "$$\n",
        "\n",
        "El término $e^{i\\phi}$ se denomina **fase relativa**, dos estados con diferente fase relativa son diferentes.\n",
        "\n",
        "Ejemplo:\n",
        "\n",
        "$$\n",
        "|1\\rangle \\equiv e^{i\\frac{\\pi}{2}}|1\\rangle = i|1\\rangle\n",
        "$$\n",
        "\n",
        "$$\n",
        "\\tfrac{1}{\\sqrt{2}}(|0\\rangle + |1\\rangle) \\neq \\tfrac{1}{\\sqrt{2}}(|0\\rangle + e^{i\\frac{\\pi}{2}}|1\\rangle) = \\tfrac{1}{\\sqrt{2}}(|0\\rangle + i|1\\rangle)\n",
        "$$"
      ],
      "metadata": {
        "id": "AYcYSGhMGugY"
      }
    },
    {
      "cell_type": "markdown",
      "source": [
        "## Crear y visualizar un vector de estado en Qiskit<a id=\"qiskit\"></a>\n",
        "\n",
        "Qiskit proporciona el método [Statevector](https://qiskit.org/documentation/stubs/qiskit.quantum_info.Statevector.html) para crear y visualizar vectores de estado arbitrarios."
      ],
      "metadata": {
        "id": "o4o4tbc_ILSz"
      }
    },
    {
      "cell_type": "code",
      "source": [
        "from qiskit.quantum_info import Statevector\n",
        "from math import sqrt\n",
        "\n",
        "# Crear un estado cuántico en qiskit\n",
        "𝜓 = Statevector([1/sqrt(2), 1j/sqrt(2)])\n",
        "\n",
        "# Visualizamos el estado\n",
        "𝜓.draw('latex', prefix=\"|\\psi\\\\rangle = \")"
      ],
      "metadata": {
        "id": "m_XobM2w6XYe"
      },
      "execution_count": null,
      "outputs": []
    },
    {
      "cell_type": "code",
      "source": [
        "# Visualización sobre la esfera de Bloch\n",
        "𝜓.draw('bloch')"
      ],
      "metadata": {
        "id": "shOMsxwWIacP"
      },
      "execution_count": null,
      "outputs": []
    },
    {
      "cell_type": "code",
      "source": [
        "# Definimos una función para visualizar el estado y la esfera a la vez\n",
        "def muestra_estado(estado):\n",
        "    display(estado.draw('latex', prefix=\"|\\psi\\\\rangle = \"))\n",
        "    display(estado.draw('bloch'))"
      ],
      "metadata": {
        "id": "pmemP12kIiwI"
      },
      "execution_count": null,
      "outputs": []
    },
    {
      "cell_type": "code",
      "source": [
        "# Ejemplo de vector de estado |1>\n",
        "𝜓 = Statevector([0, 1])\n",
        "muestra_estado(𝜓)"
      ],
      "metadata": {
        "id": "zLWLqzZkInz7"
      },
      "execution_count": null,
      "outputs": []
    },
    {
      "cell_type": "markdown",
      "source": [
        "## Ejercicio: Vector de estado\n",
        "\n",
        "a) Crea un estado con un 30% de probabilidad de medir un 0 y 70% de medir un 1 y muestra el vector de estado y la esfera de Bloch.\n",
        "\n",
        "b) Obtén los valores de $\\theta$ y $\\phi$ para este estado."
      ],
      "metadata": {
        "id": "8tYWInKEIyxV"
      }
    },
    {
      "cell_type": "code",
      "source": [
        "# Apartado a\n",
        "a0 = ... # @param {type:\"raw\"}\n",
        "a1 = ... # @param {type:\"raw\"}\n",
        "estado30_70 = Statevector([a0,a1])\n",
        "muestra_estado(estado30_70)"
      ],
      "metadata": {
        "id": "GxSP3HfpIqub"
      },
      "execution_count": null,
      "outputs": []
    },
    {
      "cell_type": "code",
      "source": [
        "# Apartado b\n",
        "from math import acos,cos,sin,e,pi\n",
        "theta = ... # @param {type:\"raw\"}\n",
        "phi = ... # @param {type:\"raw\"}\n",
        "\n",
        "# Para verificar que va bien,\n",
        "# crea el estado a partir de los ángulos\n",
        "# y comprueba que es el mismo de antes\n",
        "estado2_30_70 = Statevector([cos(theta/2), e**(1j*phi)*sin(theta/2)])\n",
        "muestra_estado(estado2_30_70)"
      ],
      "metadata": {
        "id": "6reDqdEjKy8l"
      },
      "execution_count": null,
      "outputs": []
    },
    {
      "cell_type": "code",
      "source": [
        "# Comprobamos el resultado calculando las probabilidades (probar a cambiar el valor de phi)\n",
        "a0 = estado2_30_70.data[0]\n",
        "a1 = estado2_30_70.data[1]\n",
        "p0 = abs(a0)**2\n",
        "p1 = abs(a1)**2\n",
        "print(f\"Probabilidad 0 = {p0}\\nProbabilidad 1 = {p1}\\n\")\n",
        "\n",
        "# Otra forma\n",
        "p = estado2_30_70.probabilities()\n",
        "print(f\"Probabilidad 0 = {p[0]}\\nProbabilidad 1 = {p[1]}\")"
      ],
      "metadata": {
        "id": "uW9OgodXLO3F"
      },
      "execution_count": null,
      "outputs": []
    },
    {
      "cell_type": "markdown",
      "source": [
        "## Circuitos de un cúbit en Qiskit\n",
        "\n",
        "Qiskit permite crear circuitos con cúbits\n",
        "\n",
        "- Los cúbits se inicializan al estado $|0\\rangle$ por defecto\n",
        "- Mediante puertas cuánticas modificamos el estado hasta obtener el que nos interesa\n",
        "- Es posible inicializarlos a un estado arbitrario, que el *compilador* traduce a un conjunto de puertas cuánticas\n",
        "- El circuito creado se puede simular o ejecutar en un sistema real"
      ],
      "metadata": {
        "id": "wY_6lXsSRgXV"
      }
    },
    {
      "cell_type": "code",
      "source": [
        "from qiskit import QuantumCircuit, transpile\n",
        "from qiskit.quantum_info import Statevector, random_statevector\n",
        "\n",
        "# Creamos un circuito cuántico de 1 cúbit\n",
        "qc = QuantumCircuit(1)\n",
        "# Inicializamos el cúbit al un estado aleatorio\n",
        "qc.initialize(random_statevector(dims=2, seed=13)) # dims: dimensión del estado\n",
        "# Mostramos el circuito\n",
        "qc.draw(output='mpl')"
      ],
      "metadata": {
        "id": "1_fD-ypiSMFG"
      },
      "execution_count": null,
      "outputs": []
    },
    {
      "cell_type": "code",
      "source": [
        "# Simulamos el circuito con Aer para obtener el vector de estado\n",
        "from qiskit_aer import Aer\n",
        "\n",
        "# Usamos un simulador ideal\n",
        "sim = Aer.get_backend('statevector_simulator')\n",
        "\n",
        "# 'Transpilamos' el circuito\n",
        "# paso no necesario en circuitos simples\n",
        "qc_obj = transpile(qc, sim)\n",
        "\n",
        "# Simulamos sobre el circuito transpilado\n",
        "job_sim = sim.run(qc_obj)\n",
        "\n",
        "# Obtenemos los resultados\n",
        "result = job_sim.result()\n",
        "\n",
        "# Obtenemos el vector de estado del circuito\n",
        "estado = result.get_statevector()\n",
        "muestra_estado(estado)"
      ],
      "metadata": {
        "id": "P_AK1o8pT6Cb"
      },
      "execution_count": null,
      "outputs": []
    },
    {
      "cell_type": "markdown",
      "source": [
        "**Nota importante**: En un computador real no vamos a poder acceder al vector de estado, solo vamos a poder *medir* el estado."
      ],
      "metadata": {
        "id": "Z2kbJ3keMpDe"
      }
    },
    {
      "cell_type": "code",
      "source": [
        "from qiskit_aer import Aer\n",
        "\n",
        "# Obtener la lista de simuladores disponibles\n",
        "Aer.backends()"
      ],
      "metadata": {
        "id": "Cmqua0AavGNW"
      },
      "execution_count": null,
      "outputs": []
    },
    {
      "cell_type": "code",
      "source": [
        "# Otra forma de hacer lo mismo\n",
        "from qiskit_aer import StatevectorSimulator\n",
        "\n",
        "# Usamos un simulador ideal\n",
        "sim = StatevectorSimulator()\n",
        "\n",
        "result = sim.run(transpile(qc,sim)).result()\n",
        "\n",
        "muestra_estado(result.get_statevector())"
      ],
      "metadata": {
        "id": "NAXT1bCD0cbp"
      },
      "execution_count": null,
      "outputs": []
    },
    {
      "cell_type": "code",
      "source": [
        "# Y otra más\n",
        "# Creamos un circuito cuántico de 1 cúbit\n",
        "qc = QuantumCircuit(1)\n",
        "# Inicializamos el cúbit al un estado aleatorio\n",
        "qc.initialize(random_statevector(dims=2, seed=13)) # dims: dimensión del estado\n",
        "\n",
        "# En este caso, tenemos que especificar que se salve el vector de estado\n",
        "qc.save_statevector()\n",
        "\n",
        "# Mostramos el circuito\n",
        "qc.draw(output='mpl')\n",
        "\n",
        "from qiskit_aer import AerSimulator\n",
        "\n",
        "# Usamos un simulador por defecto\n",
        "sim = AerSimulator(method='automatic')\n",
        "\n",
        "# Podemos especificar un número de \"shots\" para hacer estimaciones estadísticas\n",
        "result = sim.run(transpile(qc,sim), shots=1024).result()\n",
        "\n",
        "muestra_estado(result.get_statevector())"
      ],
      "metadata": {
        "id": "U-XBmXLF0zlO"
      },
      "execution_count": null,
      "outputs": []
    },
    {
      "cell_type": "code",
      "source": [
        "AerSimulator().available_methods()"
      ],
      "metadata": {
        "id": "pm99ldvG1o33"
      },
      "execution_count": null,
      "outputs": []
    },
    {
      "cell_type": "code",
      "source": [
        "AerSimulator().available_devices()"
      ],
      "metadata": {
        "id": "brOXb6wt17ZW"
      },
      "execution_count": null,
      "outputs": []
    },
    {
      "cell_type": "markdown",
      "source": [
        "## Múltiples cúbits<a id=\"varios\"></a>\n",
        "\n",
        "El vector de estado de un sistema de $n$ cúbits se puede expresar como una combinación lineal de estados de la forma $|q_{n-1}\\ldots q_1q_0\\rangle$, con $q_j\\in\\{0,1\\}$ es decir:\n",
        "\n",
        "$$\n",
        "|\\psi\\rangle = a_0|00\\ldots00\\rangle + a_1|00\\ldots01\\rangle + a_2|00\\ldots10\\rangle +\\cdots + a_{2^n-1} |11\\ldots11\\rangle= \\sum_{i=0}^{2^{n}-1} a_i |i\\rangle\n",
        "$$\n",
        "donde $a_i \\in \\mathbb{C}$ y $\\sum_{i=0}^{2^n-1}|a_i|^2 = 1$.\n",
        "\n",
        "Esto corresponde a un vector de estado de un espacio de Hilbert de dimensión $2^n$, usando la base canónica $\\{|00\\ldots00\\rangle, |00\\ldots01\\rangle, |00\\ldots10\\rangle,\\ldots|11\\ldots11\\rangle\\}$.\n",
        "\n",
        "\n",
        "### Sistema de dos cúbits<a id=\"dos\"></a>\n",
        "La dimensión del espacio es 4 y los vectores de elementos de la base canónica $\\{|00\\rangle, |01\\rangle, |10\\rangle, |11\\rangle\\}$ se obtienen como el producto tensor de los elementos $\\{|0\\rangle, |1\\rangle\\}$:\n",
        "\n",
        "$$\n",
        "|00\\rangle = |0\\rangle\\otimes|0\\rangle = \\begin{bmatrix}1\\\\0\\end{bmatrix}\\otimes \\begin{bmatrix}1\\\\0\\end{bmatrix} = \\begin{bmatrix}1\\\\0\\\\0\\\\0\\end{bmatrix} $$\n",
        "$$ |01\\rangle = |0\\rangle\\otimes|1\\rangle = \\begin{bmatrix}1\\\\0\\end{bmatrix}\\otimes \\begin{bmatrix}0\\\\1\\end{bmatrix} = \\begin{bmatrix}0\\\\1\\\\0\\\\0\\end{bmatrix}\n",
        "$$\n",
        "\n",
        "$$\n",
        "|10\\rangle = |1\\rangle\\otimes|0\\rangle = \\begin{bmatrix}0\\\\1\\end{bmatrix}\\otimes \\begin{bmatrix}1\\\\0\\end{bmatrix} = \\begin{bmatrix}0\\\\0\\\\1\\\\0\\end{bmatrix} $$\n",
        "$$\n",
        "|11\\rangle = |1\\rangle\\otimes|1\\rangle = \\begin{bmatrix}0\\\\1\\end{bmatrix}\\otimes \\begin{bmatrix}0\\\\1\\end{bmatrix} = \\begin{bmatrix}0\\\\0\\\\0\\\\1\\end{bmatrix}\n",
        "$$\n",
        "\n",
        "Por lo tanto:\n",
        "\n",
        "$$\n",
        "|\\psi\\rangle = a_0\\begin{bmatrix}1\\\\0\\\\0\\\\0\\end{bmatrix} + a_1\\begin{bmatrix}0\\\\1\\\\0\\\\0\\end{bmatrix} + a_2\\begin{bmatrix}0\\\\0\\\\1\\\\0\\end{bmatrix} + a_3\\begin{bmatrix}0\\\\0\\\\0\\\\1\\end{bmatrix} = \\begin{bmatrix}a_0\\\\a_1\\\\a_2\\\\a_3\\end{bmatrix} =\\\\[30pt]\n",
        "a_0|00\\rangle+a_1|01\\rangle+a_2|10\\rangle+a_3|11\\rangle = \\\\[10pt]\n",
        "a_0|0\\rangle+a_1|1\\rangle+a_2|2\\rangle+a_3|3\\rangle\n",
        "$$\n",
        "\n"
      ],
      "metadata": {
        "id": "PadZeCclWNah"
      }
    },
    {
      "cell_type": "markdown",
      "source": [
        "### Combinación de estados\n",
        "Sean los cúbits\n",
        "\n",
        "$$\n",
        "|\\upsilon\\rangle = a_0|0\\rangle + a_1|1\\rangle\n",
        "$$\n",
        "\n",
        "$$\n",
        "|\\phi\\rangle = b_0|0\\rangle + b_1|1\\rangle\n",
        "$$\n",
        "\n",
        "El vector de estado del estado global formado por los dos cúbits es:\n",
        "\n",
        "$$\n",
        "|\\psi\\rangle = |\\upsilon\\phi\\rangle = |\\upsilon\\rangle\\otimes |\\phi\\rangle = (a_0|0\\rangle + a_1|1\\rangle)\\otimes (b_0|0\\rangle + b_1|1\\rangle) = a_0b_0|00\\rangle+a_0b_1|01\\rangle+a_1b_0|10\\rangle+a_1b_1|11\\rangle\n",
        "$$\n",
        "\n",
        "<p><br></p>\n",
        "    \n",
        "----------------------------\n",
        "\n",
        "**Ejemplo**\n",
        "\n",
        "Obtener el vector de estado combinación de los cúbits $|+\\rangle$ y $|-\\rangle$\n",
        "\n",
        "$$\n",
        "|+\\rangle = \\tfrac{1}{\\sqrt{2}}(|0\\rangle+|1\\rangle),\\quad |-\\rangle = \\tfrac{1}{\\sqrt{2}}(|0\\rangle-|1\\rangle)\n",
        "$$\n",
        "\n",
        "$$\n",
        "|+-\\rangle = \\tfrac{1}{\\sqrt{2}}(|0\\rangle+|1\\rangle)\\otimes\\tfrac{1}{\\sqrt{2}}(|0\\rangle-|1\\rangle) = \\tfrac{1}{2}(|00\\rangle-|01\\rangle+|10\\rangle-|11\\rangle)=\n",
        "\\begin{bmatrix}\\tfrac{1}{2}\\\\-\\tfrac{1}{2}\\\\\\tfrac{1}{2}\\\\-\\tfrac{1}{2}\\end{bmatrix}\n",
        "$$\n",
        "\n",
        "----------------------------\n"
      ],
      "metadata": {
        "id": "4LnZTiUpVwMp"
      }
    },
    {
      "cell_type": "code",
      "source": [
        "# Formas de inicializar un estado multicúbit en Qiskit\n",
        "\n",
        "# A partir de una lista\n",
        "l = [1/2,-1/2,1/2,-1/2]\n",
        "e = Statevector(l)\n",
        "muestra_estado(e)"
      ],
      "metadata": {
        "id": "xSklKYK6WqRi"
      },
      "execution_count": null,
      "outputs": []
    },
    {
      "cell_type": "code",
      "source": [
        "# A partir de los estados |0> y |1>\n",
        "e0 = Statevector.from_int(0, dims=2)  # dims indica la dimensión del estado\n",
        "e1 = Statevector.from_int(1, dims=2)\n",
        "\n",
        "# Producto tensor\n",
        "e = ((e0^e0)-(e0^e1)+(e1^e0)-(e1^e1))/2\n",
        "# Alternativa\n",
        "#e = (e0.tensor(e0)-e0.tensor(e1)+e1.tensor(e0)-e1.tensor(e1))/2\n",
        "\n",
        "e.draw('latex')"
      ],
      "metadata": {
        "id": "Ypswg5puW-yC"
      },
      "execution_count": null,
      "outputs": []
    },
    {
      "cell_type": "code",
      "source": [
        "# A partir del producto tensor de estados individuales\n",
        "# Estados individuales\n",
        "emas = Statevector([1/sqrt(2), 1/sqrt(2)])\n",
        "emenos = Statevector([1/sqrt(2), -1/sqrt(2)])\n",
        "\n",
        "emasmenos = emas^emenos\n",
        "muestra_estado(emasmenos)"
      ],
      "metadata": {
        "id": "Ux9kr6heYpUD"
      },
      "execution_count": null,
      "outputs": []
    },
    {
      "cell_type": "markdown",
      "source": [
        "**Nota importante**: En un sistema multi-cúbit en Qiskit, el cúbit $q_0$ es el menos significativo (más a la derecha): $|q_{n-1}\\ldots q_1q_0\\rangle$. En otros sistemas y libros, el orden puede ser el inverso:  $|q_0q_1\\ldots q_{n-1}\\rangle$"
      ],
      "metadata": {
        "id": "uCBDTFkzZJAW"
      }
    },
    {
      "cell_type": "code",
      "source": [
        "# Crea el circuito cuántico y simulalo con Aer\n",
        "from qiskit import QuantumCircuit, transpile\n",
        "from qiskit_aer import StatevectorSimulator\n",
        "\n",
        "# Creamos un circuito cuántico de 2 cúbits\n",
        "qc = QuantumCircuit(2)\n",
        "\n",
        "# Inicializamos el qbit 0 al estado |->\n",
        "qc.initialize(emenos,0)\n",
        "# Inicializamos el qbit 1 al estado |+>\n",
        "qc.initialize(emas,1)\n",
        "# Alternativa: qc.initialize(emasmenos)\n",
        "\n",
        "\n",
        "# Mostramos el circuito\n",
        "qc.draw('mpl')"
      ],
      "metadata": {
        "id": "mjC3RwpsY6YG"
      },
      "execution_count": null,
      "outputs": []
    },
    {
      "cell_type": "code",
      "source": [
        "# Utilizamos el simulador de vector de estado\n",
        "sim = StatevectorSimulator()\n",
        "\n",
        "# Ejecutamos una simulación\n",
        "job_sim = sim.run(transpile(qc,sim), shots=1)\n",
        "\n",
        "# Obtenemos los resultados\n",
        "result = job_sim.result()\n",
        "\n",
        "# Obtenemos el vector de estado del circuito\n",
        "estado = result.get_statevector()\n",
        "muestra_estado(estado)"
      ],
      "metadata": {
        "id": "qwgWAHNzZfkl"
      },
      "execution_count": null,
      "outputs": []
    },
    {
      "cell_type": "markdown",
      "source": [
        "## Estados entrelazados (_entangled_)<a id=\"entrelazados\"></a>\n",
        "Propiedades:\n",
        "\n",
        "- No se pueden expresar como el producto tensor de dos estados de dimensión inferior\n",
        "- La medida de uno de los cúbits determina de forma inmediata el valor del segundo, aunque los cúbits estén separados por cualquier distancia:\n",
        "  - [‘Spooky action at a distance’](https://en.wikipedia.org/wiki/Quantum_nonlocality)\n",
        "  \n",
        "----------------------------\n",
        "\n",
        "**Ejemplo**\n",
        "\n",
        "$$\n",
        "|\\beta\\rangle = \\tfrac{1}{\\sqrt{2}}(|00\\rangle + |11\\rangle)\n",
        "$$\n",
        "\n",
        "Este es uno de los denominados [estados de Bell](https://en.wikipedia.org/wiki/Bell_state).\n",
        "\n",
        "----------------------------\n",
        "\n",
        "Al no poder descomponer un estado entrelazado en el producto tensor de dos estados individuales, no es posible representarlos en una esfera de Bloch para cada cúbit."
      ],
      "metadata": {
        "id": "Dila8XtMNCxj"
      }
    },
    {
      "cell_type": "code",
      "source": [
        "e0 = Statevector.from_int(0, dims=2)  # dims indica la dimensión del estado\n",
        "e1 = Statevector.from_int(1, dims=2)\n",
        "\n",
        "ebell = ((e0^e0)+(e1^e1))/sqrt(2)\n",
        "# Alternativa\n",
        "#ebell = Statevector([1/sqrt(2), 0, 0, 1/sqrt(2)])\n",
        "\n",
        "muestra_estado(ebell)"
      ],
      "metadata": {
        "id": "jl3ZP6cUNKRN"
      },
      "execution_count": null,
      "outputs": []
    },
    {
      "cell_type": "markdown",
      "source": [
        "Una forma de visualizar el estado (en Qiskit) es usando una Q-esfera. Cada amplitud se representa por un circulo, cuyo diámetro es proporcional a la magnitud de la amplitud. La fase se representa mediante un código de colores."
      ],
      "metadata": {
        "id": "J1J-ZDfgNlY8"
      }
    },
    {
      "cell_type": "code",
      "source": [
        "from qiskit.visualization import plot_state_qsphere\n",
        "plot_state_qsphere(ebell)"
      ],
      "metadata": {
        "id": "CaMJ4NMINRWy"
      },
      "execution_count": null,
      "outputs": []
    },
    {
      "cell_type": "markdown",
      "source": [
        "## Restricciones <a id=\"restricciones\"></a>\n",
        "\n",
        "A la hora de trabajar con cúbits hay que considerar tres restricciones\n",
        "\n",
        "a. No clonado\n",
        "\n",
        "b. Reversibilidad\n",
        "\n",
        "c. Medida destructiva\n",
        "\n",
        "### No clonado\n",
        "\n",
        "No es posible obtener un duplicado de un estado cuántico (es decir, no es posible una puerta fan-out)\n",
        "\n",
        "<center><img src=\"https://drive.google.com/uc?export=view&id=1FQCVX5DgqV0PdCTOl2UBYX_EYf0Mw--W\" alt=\"No clonado\" width=\"200\"/></center>\n",
        "\n",
        "<details><summary>Pulsa aquí ver una demostración del principio de no-clonado</summary>\n",
        "\n",
        "Sean $|\\psi\\rangle$ y $|\\phi\\rangle$ dos estados cuánticos tales que $|\\psi\\rangle|\\phi\\rangle\\neq 0$. Supongamos una transformación unitaria $U$ que clona un estado cuántico arbitrario en otro cúbit. $U$ podría definirse como:\n",
        "\n",
        "$$U(|\\psi\\rangle|0\\rangle) = |\\psi\\rangle|\\psi\\rangle$$\n",
        "$$U(|\\phi\\rangle|0\\rangle) = |\\phi\\rangle|\\phi\\rangle$$\n",
        "\n",
        "\n",
        "Sea $|\\varphi\\rangle = \\frac{1}{\\sqrt{2}}(|\\psi\\rangle+|\\phi\\rangle)$. Aplicando $U$ a este estado combiando, y dada la linealidad de los operadores cuánticos:\n",
        "\n",
        "$$\n",
        "\\begin{aligned}\n",
        "U(|\\varphi\\rangle|0\\rangle) & = \\frac{1}{\\sqrt{2}}U\\left((|\\psi\\rangle+|\\phi\\rangle)|0\\rangle\\right) =  \\frac{1}{\\sqrt{2}}U\\left(|\\psi\\rangle|0\\rangle+|\\phi\\rangle|0\\rangle\\right)\\\\[10pt]\n",
        "&= \\frac{1}{\\sqrt{2}}\\left(U(|\\psi\\rangle|0\\rangle)+U(|\\phi\\rangle|0\\rangle)\\right) =\n",
        "\\frac{1}{\\sqrt{2}}\\left(|\\psi\\rangle|\\psi\\rangle+|\\phi\\rangle|\\phi\\rangle\\right)\n",
        "\\end{aligned}\n",
        "$$\n",
        "\n",
        "Pero por otro lado, dada la definición de $U$:\n",
        "\n",
        "$$\n",
        "\\begin{aligned}\n",
        "U(|\\varphi\\rangle|0\\rangle) &= |\\varphi\\rangle|\\varphi\\rangle = \\frac{1}{2}(|\\psi\\rangle+|\\phi\\rangle)(|\\psi\\rangle+|\\phi\\rangle)\\\\[10pt]\n",
        "&= \\frac{1}{2}(|\\psi\\rangle|\\psi\\rangle+|\\psi\\rangle|\\phi\\rangle+|\\phi\\rangle|\\psi\\rangle+|\\phi\\rangle|\\phi\\rangle) \\neq \\frac{1}{\\sqrt{2}}\\left(|\\psi\\rangle|\\psi\\rangle+|\\phi\\rangle|\\phi\\rangle\\right)\n",
        "\\end{aligned}\n",
        "$$\n",
        "</details>\n",
        "\n",
        "\n",
        "\n",
        "### Reversibilidad\n",
        "\n",
        "Toda operación realizada sobre un estado cuántico (excepto la medición) tiene que ser reversible.\n",
        "\n",
        "### Medida destructiva\n",
        "\n",
        "La medida es destructiva: al medir un estado cuántico, el estado se pierde"
      ],
      "metadata": {
        "id": "hJZm-rIiOEP-"
      }
    },
    {
      "cell_type": "markdown",
      "source": [
        "<a name=\"medida\"></a>\n",
        "# **Medida del estado**\n",
        "\n",
        "La medida del cúbit $|\\psi\\rangle = a_0|0\\rangle + a_1|1\\rangle$ devuelve un 0 con probabilidad $|a_0|^2$ y un 1 con probabilidad $|a_1|^2$. Estas probabilidades pueden obtenerse como:\n",
        "\n",
        "$$\n",
        "p(0) = |\\langle 0|\\psi\\rangle|^2 = |\\langle 0|a_0|0\\rangle + \\langle 0|a_1|1\\rangle|^2 = |a_0|^2\\\\\n",
        "p(1) = |\\langle 1|\\psi\\rangle|^2 = |\\langle 1|a_0|0\\rangle + \\langle 1|a_1|1\\rangle|^2 = |a_1|^2\n",
        "$$\n",
        "\n",
        "La suma de ambas probabilidades es: $$p(0)+p(1) = |a_0|^2 + |a_1|^2 = 1$$\n",
        "\n",
        "Si expresamos el estado usando la esfera de Bloch $|\\psi\\rangle = \\cos{\\tfrac{\\theta}{2}}|0\\rangle + e^{i\\phi}\\sin{\\tfrac{\\theta}{2}}|1\\rangle$ las probabilidades son:\n",
        "\n",
        "$$p(0) = \\left|\\cos{\\tfrac{\\theta}{2}}\\right|^2 = \\cos^2{\\tfrac{\\theta}{2}}$$\n",
        "\n",
        "$$p(1) = \\left|e^{i\\phi}\\sin{\\tfrac{\\theta}{2}}\\right|^2 = \\sin^2{\\tfrac{\\theta}{2}}$$\n",
        "\n",
        "verificandose que:\n",
        "\n",
        "$$p(0) + p(1) = \\cos^2{\\tfrac{\\theta}{2}} + \\sin^2{\\tfrac{\\theta}{2}} = 1$$\n",
        "\n",
        "### Estado tras la medida\n",
        "El estado después de la medida viene determinado por lo que se haya medido:\n",
        "\n",
        "- Medimos 0 $\\Rightarrow |\\psi^\\prime\\rangle = |0\\rangle$\n",
        "- Medimos 1 $\\Rightarrow |\\psi^\\prime\\rangle = |1\\rangle$\n",
        "\n",
        "El resultado de la medida es un valor clásico (0 o 1) y es probabilístico $\\Rightarrow$ son necesarias varias medidas para obtener un resultado significativo.\n",
        "\n",
        "----------------------------\n",
        "\n",
        "**Ejemplo**\n",
        "\n",
        "Dado el estado de 1 cúbit $|\\psi\\rangle = \\tfrac{1}{\\sqrt{3}}(|0\\rangle + \\sqrt{2}|1\\rangle)$ las probabilidad de obtener un 1 al medir es\n",
        "\n",
        "$$p(1) = \\left|\\frac{\\sqrt{2}}{\\sqrt{3}}\\right|^2 = \\frac{2}{3}$$\n",
        "y el estado después de la medida es $|\\psi'\\rangle = |1\\rangle$\n",
        "\n",
        "----------------------------"
      ],
      "metadata": {
        "id": "P3Q_UqQCOfPc"
      }
    },
    {
      "cell_type": "markdown",
      "source": [
        "#### Medida en Qiskit\n",
        "Creamos un circuito cuántico con 1 cúbit en el estado $|\\psi\\rangle = \\tfrac{1}{\\sqrt{3}}(|0\\rangle + \\sqrt{2}|1\\rangle)$ y lo simulamos con Aer"
      ],
      "metadata": {
        "id": "SAty-KaCQyeu"
      }
    },
    {
      "cell_type": "code",
      "source": [
        "from qiskit import QuantumCircuit\n",
        "from qiskit_aer import AerSimulator\n",
        "from qiskit.visualization import plot_histogram\n",
        "from math import sqrt\n",
        "\n",
        "# Creamos un circuito cuántico de 1 cúbit y 1 bit clásico para la medida\n",
        "qc = QuantumCircuit(1,1)\n",
        "\n",
        "# Inicializamos el cúbit al estado 1/√3(|0⟩+√2|1⟩)\n",
        "qc.initialize(Statevector([1/sqrt(3), sqrt(2)/sqrt(3)]))\n",
        "\n",
        " # Le añadimos la medida\n",
        "qc.measure(0,0)\n",
        "\n",
        "# Indicamos que guarde el vector de estado (después de la medida)\n",
        "qc.save_statevector()\n",
        "\n",
        "# Mostramos el circuito\n",
        "qc.draw('mpl')"
      ],
      "metadata": {
        "id": "6NTtNswFOJSl"
      },
      "execution_count": null,
      "outputs": []
    },
    {
      "cell_type": "code",
      "source": [
        "# Utilizamos el simulador Aer por defecto\n",
        "sim = AerSimulator(method='automatic')\n",
        "# Hacemos una simulación y obtenemos los resultados\n",
        "result = sim.run(transpile(qc,sim), shots=1).result()\n",
        "\n",
        "plot_histogram(result.get_counts())"
      ],
      "metadata": {
        "id": "HC9LHN8qRI5H"
      },
      "execution_count": null,
      "outputs": []
    },
    {
      "cell_type": "code",
      "source": [
        "# Obtenemos el estado después de la medida\n",
        "estado_final = result.get_statevector()\n",
        "muestra_estado(estado_final)"
      ],
      "metadata": {
        "id": "1m6VH95GSOzT"
      },
      "execution_count": null,
      "outputs": []
    },
    {
      "cell_type": "markdown",
      "source": [
        "La medida es probabilística, por lo que normalmente se realizan múltiples medidas y se obtiene un histograma de las salidas."
      ],
      "metadata": {
        "id": "u75dEIfySgrO"
      }
    },
    {
      "cell_type": "code",
      "source": [
        "# Hacemos 1000 simulaciones (shots)\n",
        "result = sim.run(transpile(qc,sim), shots=1024).result()\n",
        "\n",
        "# Mostramos el histograma\n",
        "plot_histogram(result.get_counts())"
      ],
      "metadata": {
        "id": "nKKahYqTSQ9U"
      },
      "execution_count": null,
      "outputs": []
    },
    {
      "cell_type": "markdown",
      "source": [
        "## Ejercicio: Medir el estado de 1 cúbit\n",
        "\n",
        "Crear un circuito para un estado con un 80% de probabilidad de medir un 0 y 20% de medir un 1 y haz la medida."
      ],
      "metadata": {
        "id": "sPaFpLuES4GV"
      }
    },
    {
      "cell_type": "code",
      "source": [
        "a0 = ...\n",
        "a1 = ...\n",
        "estado80_20 = ...\n",
        "\n",
        "# Crea un circuito cuántico de 1 cúbit y 1 bit clásico para la medida\n",
        "qc = ...\n",
        "\n",
        "# Inicializamos el cúbit al estado 80_20\n",
        "qc.initialize(estado80_20)\n",
        "\n",
        " # Le añadimos la medida\n",
        "qc.measure(...)\n",
        "\n",
        "# Utilizamos el simulador Aer\n",
        "sim = AerSimulator()\n",
        "\n",
        "# Hacemos 1024 simulaciones (shots) y obtenemos los resultados\n",
        "result = sim.run(...).result()\n",
        "\n",
        "# Mostramos el histograma\n",
        "plot_histogram(result.get_counts())"
      ],
      "metadata": {
        "id": "_dx5e37BTG5h"
      },
      "execution_count": null,
      "outputs": []
    },
    {
      "cell_type": "markdown",
      "source": [
        "## Medidas en sistemas multi-cúbit\n",
        "\n",
        "Al medir el sistema $|\\psi\\rangle=\\sum_{i=0}^{n-1} a_i |i\\rangle$, la probabilidad de obtener el valor $i$, con $i=0,\\ldots,n-1$, viene dada por la *Regla de Born*:\n",
        "\n",
        "$$p(i) = |\\langle i|\\psi\\rangle|^2 =  \\langle\\psi|i\\rangle\\langle i|\\psi\\rangle = \\langle\\psi|P_i|\\psi\\rangle = |a_i|^2$$\n",
        "\n",
        "donde $P_i = |i\\rangle\\langle i|$ es una matriz que se denomina *operador de proyección*, pues proyecta el vector de estado sobre el subespacio generado por el estado base $|i\\rangle$.\n",
        "\n",
        "El proceso de medida hace que el estado _colapse_, y el estado después de la medida es $|i\\rangle$.\n",
        "\n",
        "Lo que hacemos al medir es obtener la proyección del estado sobre el vector $|i\\rangle$ de la base canónica.\n",
        "\n",
        "\n",
        "\n",
        "Para 1 cúbit, la medida sobre la base canónica $\\{|0\\rangle, |1\\rangle\\}$ se denomina _medida Z_ porque equivale a proyectar el vector de estado sobre el eje Z de la esfera de Bloch. Es la medida más habitual (por no decir, la única), pero, en teoría, se podría medir un estado sobre cualquier base. Así tendríamos la _medida X_ usando la base $\\{|+\\rangle, |-\\rangle\\}$ y la _medida Y_ usando la base $\\{|\\!\\!+i\\rangle, |\\!\\!-i\\rangle\\}$.\n",
        "\n",
        "----------------------------\n",
        "\n",
        "**Ejemplo**\n",
        "\n",
        "Dado el estado de 2 cúbits $|\\psi\\rangle=a_0|00\\rangle+a_1|01\\rangle+a_2|10\\rangle+a_3|11\\rangle$, la posibilidad de obtener 2 (10) al medir es:\n",
        "\n",
        "$$\n",
        "p(2) = \\langle\\psi|10\\rangle\\langle 10|\\psi\\rangle = a_2^*a_2 = |a_2|^2\n",
        "$$\n",
        "\n",
        "y el estado después de la medida es $|10\\rangle$.\n",
        "\n",
        "----------------------------\n",
        "\n",
        "#### Medida de cúbits individuales en un sistema multi-cúbit\n",
        "Si medimos cúbits individuales, la probabilidad se obtiene de forma similar. Por ejemplo, la probabilidad de obtener, en el estado del ejemplo anterior, un 1 cuando medimos el cúbit menos significativo es:\n",
        "\n",
        "$$\n",
        "p_{q0}(1) = p(1) + p(3) = |\\langle 01|\\psi\\rangle|^2 + |\\langle 11|\\psi\\rangle|^2 = |a_1|^2+|a_3|^2\n",
        "$$\n",
        "\n",
        "Y el estado despues de la medida es:\n",
        "\n",
        "$$\n",
        "|\\psi'\\rangle = \\frac{a_1|01\\rangle + a_3|11\\rangle}{\\sqrt{|a_1|^2+|a_3|^2}}\n",
        "$$\n"
      ],
      "metadata": {
        "id": "PgG3lBeIT9r0"
      }
    },
    {
      "cell_type": "code",
      "source": [
        "# Creamos un circuito cuántico de 2 cúbits y 2 bits clásicos de medida\n",
        "# Esta vez usaremos registros cuánticos y clásicos\n",
        "from qiskit import QuantumCircuit, QuantumRegister, ClassicalRegister\n",
        "from qiskit.quantum_info import Statevector\n",
        "\n",
        "qr = QuantumRegister(size=2, name='cúbit')\n",
        "cr = ClassicalRegister(size=2, name='bits')\n",
        "\n",
        "qc = QuantumCircuit(qr,cr)\n",
        "\n",
        "# Inicializamos el circuito al estado |+->\n",
        "qc.initialize(Statevector([1/2, -1/2, 1/2, -1/2]))\n",
        "\n",
        "# Le añadimos la medida (también se puede hacer con qc.measure_all())\n",
        "for i in range(2):\n",
        "    qc.measure(qr[i], cr[i])\n",
        "\n",
        "# Mostramos el circuito\n",
        "qc.draw('mpl')"
      ],
      "metadata": {
        "id": "lAr-nJV0UDAF"
      },
      "execution_count": null,
      "outputs": []
    },
    {
      "cell_type": "code",
      "source": [
        "from qiskit import QuantumCircuit, transpile\n",
        "from qiskit_aer import AerSimulator\n",
        "from qiskit.visualization import plot_histogram\n",
        "\n",
        "# Utilizamos el simulador Aer\n",
        "sim = AerSimulator()\n",
        "\n",
        "# Hacemos múltiples simulaciones (shots)\n",
        "result = sim.run(transpile(qc,sim), shots=1000).result()\n",
        "\n",
        "# Mostramos el histograma\n",
        "plot_histogram(result.get_counts())"
      ],
      "metadata": {
        "id": "k7B_MSKAUuzs"
      },
      "execution_count": null,
      "outputs": []
    },
    {
      "cell_type": "markdown",
      "source": [
        "Probamos ahora a medir solo el cúbit 1 y obtener el vector de estado del estado postarior a la medida."
      ],
      "metadata": {
        "id": "Lsjs0VxzVnRV"
      }
    },
    {
      "cell_type": "code",
      "source": [
        "# Repetimos para medir solo el cúbit 1\n",
        "qr = QuantumRegister(size=2, name='cúbit')\n",
        "cr = ClassicalRegister(size=1, name='bit')\n",
        "\n",
        "qc = QuantumCircuit(qr,cr)\n",
        "\n",
        "# Inicializamos el circuito al estado |+->\n",
        "qc.initialize(Statevector([1/2, -1/2, 1/2, -1/2]))\n",
        "\n",
        "# Le añadimos la medida (también se puede hacer con qc.measure(1,0))\n",
        "qc.measure(qr[1], cr)\n",
        "\n",
        "# Salvamos el vector de estado en este punto\n",
        "qc.save_statevector()\n",
        "\n",
        "# Mostramos el circuito\n",
        "qc.draw('mpl')"
      ],
      "metadata": {
        "id": "TRN6fweeVQGO"
      },
      "execution_count": null,
      "outputs": []
    },
    {
      "cell_type": "code",
      "source": [
        "# Hacemos una simulación\n",
        "result = sim.run(transpile(qc,sim), shots=1).result()\n",
        "\n",
        "plot_histogram(result.get_counts())"
      ],
      "metadata": {
        "id": "bRqXLTuWVzs4"
      },
      "execution_count": null,
      "outputs": []
    },
    {
      "cell_type": "code",
      "source": [
        "# Obtenemos el estado después de la medida\n",
        "estado_final = result.get_statevector()\n",
        "muestra_estado(estado_final)"
      ],
      "metadata": {
        "id": "Vh9zJObnV-5B"
      },
      "execution_count": null,
      "outputs": []
    },
    {
      "cell_type": "markdown",
      "source": [
        "Este estado es\n",
        "\n",
        "- Si medimos un 0: $\\tfrac{1}{\\sqrt{2}}(|00\\rangle - |01\\rangle) = |0\\rangle\\otimes|-\\rangle$\n",
        "- Si medimos un 1: $\\tfrac{1}{\\sqrt{2}}(|10\\rangle - |11\\rangle) = |1\\rangle\\otimes|-\\rangle$"
      ],
      "metadata": {
        "id": "4LKNl0wtXZHx"
      }
    },
    {
      "cell_type": "markdown",
      "source": [
        "## Ejercicio: Medir un estado multi-cúbit\n",
        "\n",
        "Crear un circuito de dos cúbits e inicializarlo al estado de Bell visto antes. Medir el cúbit $q_0$ y comprobar el estado después de la medida."
      ],
      "metadata": {
        "id": "nV7bcodIXdt1"
      }
    },
    {
      "cell_type": "code",
      "source": [
        "# Estado entrelazado\n",
        "ebell = Statevector([1/sqrt(2), 0, 0, 1/sqrt(2)])\n",
        "\n",
        "# Crea un registro cuántico de 2 cúbits\n",
        "qr = ...\n",
        "# Crea un registro clásico de 1 bit\n",
        "cr = ...\n",
        "\n",
        "# Crea el circuito\n",
        "qc = QuantumCircuit(...)\n",
        "\n",
        "# Inicializamos el circuito al estado ebell\n",
        "qc.initialize(...)\n",
        "\n",
        "# Le añadimos la medida\n",
        "qc.measure(...)\n",
        "\n",
        "# Salvamos el vector de estado en este punto\n",
        "qc.save_statevector()\n",
        "\n",
        "# Mostramos el circuito\n",
        "qc.draw('mpl')"
      ],
      "metadata": {
        "id": "jYraO10EY7Yy"
      },
      "execution_count": null,
      "outputs": []
    },
    {
      "cell_type": "code",
      "source": [
        "# Hacemos una simulación y obtenemos los resultados\n",
        "result = ...\n",
        "\n",
        "# Mostramos la salida\n",
        "plot_histogram(result....)"
      ],
      "metadata": {
        "id": "4StKy_q9Zx7N"
      },
      "execution_count": null,
      "outputs": []
    },
    {
      "cell_type": "code",
      "source": [
        "# Obtenemos el estado después de la medida\n",
        "estado_final = result...\n",
        "muestra_estado(estado_final)"
      ],
      "metadata": {
        "id": "4foBT8B2Z9mH"
      },
      "execution_count": null,
      "outputs": []
    },
    {
      "cell_type": "markdown",
      "source": [
        "\n",
        "\n",
        "---\n",
        "\n",
        "\n",
        "\n",
        "---\n",
        "\n",
        "\n",
        "\n",
        "---\n",
        "\n"
      ],
      "metadata": {
        "id": "STR1v-YLa6Yc"
      }
    },
    {
      "cell_type": "markdown",
      "source": [
        "<a name=\"observables\"></a>\n",
        "# **Observables, valor esperado y matrices de Pauli**\n",
        "\n",
        "Un _observable_ representa cualquier cantidad que se pueda medir en estado cuántico (energía, posición, momento, etc.). A cada observable le corresponde un operador hermitiano $M$ en el espacio de estados del sistema bajo observación.\n",
        "\n",
        "Como el operador $M$ es hermitiano $\\rightarrow$ es diagonalizable $\\rightarrow$ según el teorema de descomposición espectral $M$ se puede escribir como:\n",
        "\n",
        "$$M = \\sum_i \\lambda_i P_i = \\sum_i \\lambda_i |u_i\\rangle\\langle u_i|$$\n",
        "\n",
        "donde $|u_i\\rangle$ son los autovectores (o autoestados) de $M$. Además, se verifica que los autovalores $\\lambda_i$ son reales, $\\lambda_i \\in \\mathbb{R}$.\n",
        "\n",
        "**Medida general de un observable sobre un estado**\n",
        "\n",
        "Cuando se mide un observable $M$ sobre un estado $|\\psi\\rangle$, las posibles salidas de la medida corresponden a los autovalores del observable $M$ y la probabilidad de obtener un resultado $\\lambda_m$ es, igual que antes:\n",
        "    \n",
        "$$\n",
        "p(\\lambda_m) = |\\langle u_m|\\psi\\rangle|^2 = \\langle\\psi|u_m\\rangle\\langle u_m|\\psi\\rangle = \\langle\\psi|P_m|\\psi\\rangle\n",
        "$$\n",
        "\n",
        "y el estado posterior a la medida queda como:\n",
        "\n",
        "$$\n",
        "|\\psi'\\rangle = \\frac{P_m|\\psi\\rangle}{\\sqrt{p(m)}} = \\frac{|u_m\\rangle\\langle u_m|\\psi\\rangle}{|\\langle u_m|\\psi\\rangle|}\n",
        "$$\n",
        "\n",
        "En este caso, el operador de proyección $P_i = |u_i\\rangle\\langle u_i|$ proyecta el vector de estado sobre el subespacio generado por el autovector $|u_i\\rangle$.\n",
        "\n",
        "**Ejemplo**\n",
        "\n",
        "Un ejemplo de observable es simplemente mirar si un cúbit $|\\psi\\rangle$ está o no en el estado $|1\\rangle$. Ese observable tiene asociada la matriz:\n",
        "\n",
        "$$\n",
        "M =  \\begin{bmatrix}0 & 0\\\\0 & 1\\end{bmatrix} = \\lambda_0|0\\rangle\\langle0| + \\lambda_1|1\\rangle\\langle1| = |1\\rangle\\langle1|\n",
        "$$\n",
        "\n",
        "Los autovalores esta matriz son son $0$ y $1$ y los autovectores correspondientes son $|0\\rangle$ y $|1\\rangle$.\n",
        "\n",
        "Dado un estado $|\\psi\\rangle = a_0|0\\rangle + a_1|1\\rangle$ la probabilidad de obtener el autovalor $1$ es:\n",
        "\n",
        "$$\n",
        "p(1) = \\langle\\psi|P_1|\\psi\\rangle =  \\langle\\psi|1\\rangle\\langle 1|\\psi\\rangle\n",
        " = |a_1|^2\n",
        "$$\n",
        "\n",
        "y el estado posterior a la medida es:\n",
        "\n",
        "$$\n",
        "|\\psi'\\rangle = \\frac{|1\\rangle\\langle 1|\\psi\\rangle}{|\\langle 1|\\psi\\rangle|} = \\frac{a_1}{|a_1|}|1\\rangle \\equiv |1\\rangle\n",
        "$$\n",
        "    \n",
        "## Valor esperado de un observable\n",
        "\n",
        "El valor medio o valor esperado de un observable $M$ cuando observamos un estado $|\\psi\\rangle$ es:\n",
        "\n",
        "$$\n",
        "\\langle M\\rangle_{|\\psi\\rangle} = \\sum_i \\lambda_i p(\\lambda_i) = \\sum_i \\lambda_i\\langle\\psi|P_i|\\psi\\rangle = \\langle\\psi|\\left(\\sum_i \\lambda_i P_i\\right)|\\psi\\rangle = \\langle\\psi|M|\\psi\\rangle\n",
        "$$\n",
        "\n",
        "y la desviación estándar asociada a las observaciones de $M$:\n",
        "\n",
        "$$[\\Delta(M)]^2 = \\langle(M-\\langle M\\rangle)^2\\rangle = \\langle M^2\\rangle - \\langle M\\rangle^2$$\n",
        "\n",
        "Notar que el valor esperado de $M$ en uno de sus autoestados $|u_i\\rangle$ es, precisamente, el autovalor asociado a ese autoestado:\n",
        "\n",
        "$$\n",
        "\\langle M\\rangle_{|u_i\\rangle} = \\langle u_i|M|u_i\\rangle = \\langle u_i|\\lambda_i|u_i\\rangle = \\lambda_i\n",
        "$$\n",
        "\n",
        "\n",
        "**Ejemplo**\n",
        "    \n",
        "Un observable para un estado de 1 cúbit es medir si el vector de estado se encuentra sobre uno de los ejes de la esfera de Bloch. Por ejemplo, si medimos si se encuentra sobre el eje $Z$ la matriz asociada al observable es:\n",
        "\n",
        "$$\\sigma_z = \\begin{bmatrix}1 & 0\\\\0 & -1\\end{bmatrix}$$\n",
        "\n",
        "Los autovalores de $\\sigma_z$ son $1$ y $-1$ y los autovectores correspondientes son $|0\\rangle$ y $|1\\rangle$.\n",
        "    \n",
        "Supongamos que tenemos el estado $|\\psi\\rangle=a_0|0\\rangle+a_1|1\\rangle$. El valor esperado del observable $\\sigma_z$ en ese estado es:\n",
        "\n",
        "$$\\langle \\sigma_z\\rangle = \\langle\\psi|\\sigma_z|\\psi\\rangle =\n",
        "\\begin{bmatrix}a_0^* & a_1^*\\end{bmatrix}\n",
        "\\begin{bmatrix}1 & 0\\\\0 & -1\\end{bmatrix}\n",
        "\\begin{bmatrix}a_0 \\\\ a_1\\end{bmatrix} = |a_0|^2-|a_1|^2\n",
        "$$\n",
        "\n",
        "Así, por ejemplo, si $|\\psi\\rangle=|0\\rangle$ el valor esperado será:\n",
        "\n",
        "$$\\langle \\sigma_z\\rangle = \\langle0|\\sigma_z|0\\rangle = 1$$\n",
        "\n",
        "Si $|\\psi\\rangle=|1\\rangle$ será:\n",
        "\n",
        "$$\\langle \\sigma_z\\rangle = \\langle1|\\sigma_z|1\\rangle = -1$$\n",
        "\n",
        "Y si $|\\psi\\rangle=|+\\rangle=\\frac{1}{\\sqrt{2}}(|0\\rangle+|1\\rangle)$ será:\n",
        "\n",
        "$$\\langle \\sigma_z\\rangle = \\langle+|\\sigma_z|+\\rangle =0$$\n",
        "\n",
        "Los observables correspondientes a medir sobre el eje $X$ y el $Y$ son:\n",
        "\n",
        "$$\\sigma_x = \\begin{bmatrix}0 & 1\\\\1 & 0\\end{bmatrix}$$\n",
        "\n",
        "$$\\sigma_y = \\begin{bmatrix}0 & -i\\\\i & 0\\end{bmatrix}$$"
      ],
      "metadata": {
        "id": "T_4RCyVuai6r"
      }
    },
    {
      "cell_type": "markdown",
      "source": [
        "## Matrices de Pauli\n",
        "\n",
        "Las matrices $\\sigma_x$, $\\sigma_y$ y $\\sigma_z$, junto con la matriz identidad $\\mathbb{I}$, se denominan **matrices de Pauli** (u operadores de Pauli) y son básicas dentro de la cuántica.\n",
        "\n",
        "Si usamos la esfera de Bloch, dado un estado $|\\psi\\rangle = \\cos{\\tfrac{\\theta}{2}}|0\\rangle + e^{i\\phi}\\sin{\\tfrac{\\theta}{2}}|1\\rangle$, los valores esperados de estas matrices son:\n",
        "\n",
        "$$\n",
        "\\begin{aligned}\n",
        "\\langle \\sigma_x\\rangle &= \\langle\\psi|\\sigma_x|\\psi\\rangle =\n",
        "\\begin{bmatrix}\\cos\\tfrac{\\theta}{2} & e^{-i\\phi}\\sin{\\tfrac{\\theta}{2}}\\end{bmatrix}\n",
        "\\begin{bmatrix}0 & 1\\\\1 & 0\\end{bmatrix}\n",
        "\\begin{bmatrix}\\cos\\tfrac{\\theta}{2} \\\\ e^{i\\phi}\\sin{\\tfrac{\\theta}{2}}\\end{bmatrix} =\n",
        "    (e^{i\\phi}+e^{-i\\phi})\\cos^2\\tfrac{\\theta}{2}\\sin^2\\tfrac{\\theta}{2} =\n",
        "2\\cos\\phi\\cos^2\\tfrac{\\theta}{2}\\sin^2\\tfrac{\\theta}{2}=\\cos\\phi\\sin\\theta\\\\[10pt]\n",
        "\\langle \\sigma_y\\rangle &= \\langle\\psi|\\sigma_y|\\psi\\rangle =\n",
        "\\begin{bmatrix}\\cos\\tfrac{\\theta}{2} & e^{-i\\phi}\\sin{\\tfrac{\\theta}{2}}\\end{bmatrix}\n",
        "\\begin{bmatrix}0 & -i\\\\i & 0\\end{bmatrix}\n",
        "\\begin{bmatrix}\\cos\\tfrac{\\theta}{2} \\\\ e^{i\\phi}\\sin{\\tfrac{\\theta}{2}}\\end{bmatrix} =\n",
        "    i(e^{-i\\phi}-e^{i\\phi})\\cos^2\\tfrac{\\theta}{2}\\sin^2\\tfrac{\\theta}{2} =\n",
        "2\\sin\\phi\\cos^2\\tfrac{\\theta}{2}\\sin^2\\tfrac{\\theta}{2}=\\sin\\phi\\sin\\theta\\\\[10pt]\n",
        "\\langle \\sigma_z\\rangle &= \\langle\\psi|\\sigma_z|\\psi\\rangle =\n",
        "\\begin{bmatrix}\\cos\\tfrac{\\theta}{2} & e^{-i\\phi}\\sin{\\tfrac{\\theta}{2}}\\end{bmatrix}\n",
        "\\begin{bmatrix}1 & 0\\\\0 & -1\\end{bmatrix}\n",
        "\\begin{bmatrix}\\cos\\tfrac{\\theta}{2} \\\\ e^{i\\phi}\\sin{\\tfrac{\\theta}{2}}\\end{bmatrix} =\n",
        "\\cos^2\\tfrac{\\theta}{2}-\\sin^2\\tfrac{\\theta}{2} =\n",
        "\\cos\\theta\n",
        "\\end{aligned}\n",
        "$$\n",
        "\n",
        "para obtener estas ecuaciones hemos usado la fórmula del ángulo medio:\n",
        "\n",
        "$$\n",
        "\\cos^2\\tfrac{\\theta}{2} = \\tfrac{1}{2}(1+\\cos\\theta)\\\\\n",
        "\\sin^2\\tfrac{\\theta}{2} = \\tfrac{1}{2}(1-\\cos\\theta)\n",
        "$$\n",
        "\n",
        "Podemos ver que estos valores corresponden con las coordenadas cartesianas de $|\\phi\\rangle$ en la esfera de Bloch:\n",
        "\n",
        "$$\n",
        "\\vec{r} = \\begin{pmatrix}\n",
        "r_x\\\\r_y\\\\r_z\n",
        "\\end{pmatrix} =\n",
        "\\begin{pmatrix}\n",
        "\\sin\\theta\\cos\\phi\\\\\\sin\\theta\\sin\\phi\\\\\\cos\\theta\n",
        "\\end{pmatrix}=\n",
        "\\begin{pmatrix}\n",
        "\\langle \\sigma_x\\rangle\\\\\\langle \\sigma_y\\rangle\\\\\\langle \\sigma_z\\rangle\n",
        "\\end{pmatrix}\n",
        "$$\n",
        "\n",
        "--------------------------------------------------\n",
        "\n",
        "#### Observable general\n",
        "\n",
        "Un operador hermitiano $M$ asociado a un observable siempre puede expresarse como una combinación lineal de productos tensor de las matrices de Pauli $\\{\\mathbb{I}, \\sigma_x, \\sigma_y, \\sigma_z\\}$:\n",
        "\n",
        "$$\n",
        "M = \\sum_i c_i P_i\n",
        "$$\n",
        "\n",
        "siendo $P_i$ un producto tensor de matrices de Pauli.\n",
        "\n",
        "**Ejemplo**: Sea $M$ un observable de la forma:\n",
        "\n",
        "$$\n",
        "M = \\frac{1}{2}\\sigma_z\\otimes I\\otimes\\sigma_x - 3 I\\otimes \\sigma_y\\otimes\\sigma_y + 2 \\sigma_z\\otimes \\sigma_x\\otimes\\sigma_z\n",
        "$$\n",
        "Por tanto, se puede escribir:\n",
        "\n",
        "$$\n",
        "\\langle M\\rangle_{|\\psi\\rangle} = \\langle\\psi|M|\\psi\\rangle = \\sum_i c_i \\langle\\psi|P_i|\\psi\\rangle =\n",
        "\\langle\\psi|\\left(\\frac{1}{2}\\sigma_z\\otimes I\\otimes\\sigma_x - 3 I\\otimes \\sigma_y\\otimes\\sigma_y + 2 \\sigma_z\\otimes \\sigma_x\\otimes\\sigma_z\\right)|\\psi\\rangle = \\\\\n",
        "\\frac{1}{2}\\langle\\psi|\\sigma_z\\otimes I\\otimes\\sigma_x|\\psi\\rangle - 3\\langle\\psi|I\\otimes \\sigma_y\\otimes\\sigma_y|\\psi\\rangle +2\\langle\\psi|2 \\sigma_z\\otimes \\sigma_x\\otimes\\sigma_z|\\psi\\rangle\n",
        " $$\n"
      ],
      "metadata": {
        "id": "NIVBycyvd6zO"
      }
    },
    {
      "cell_type": "markdown",
      "source": [
        "<a name=\"errores\"></a>\n",
        "# **Errores, matrices de densidad y estados mezcla**\n",
        "\n",
        "Diferentes fuentes de error producen fallos en la computación:\n",
        "\n",
        " - Errores en la preparación del estado y en la medida\n",
        " - Errores en las puertas\n",
        " - Errores en estadísticos debidos a un número finito de medidas\n",
        " - Errores debidos al ruido ambiental\n",
        "\n",
        "Se necesitan técnicas de corrección de errores:\n",
        "\n",
        "  - Para implementar 1 cúbit _lógico_ (sin error) se necesitan varios cúbits físicos\n",
        "\n",
        "Los sistemas actuales, con pocos cúbits y con errores, se denominan NISQ (_Noisy intermediate-scale quantum_)\n",
        "\n",
        "### Tiempos de decoherencia\n",
        "\n",
        "El ruido puede hacer que con el tiempo el estado de un cúbit cambie\n",
        "\n",
        " - $T_1$ (tiempo de relajación): tiempo en que un estado $|1\\rangle$ decae a $|0\\rangle$\n",
        "   - La probabilidad de que el cúbit siga a $|1\\rangle$ tras un tiempo $t$ es $P(|1\\rangle) = e^{-\\frac{t}{T_1}}$\n",
        " - $T_2$ (tiempo de _dephasing_): tiempo en el que un estado $|+\\rangle$ decae a un estado _mezcla_\n",
        "\n",
        "Estos valores limitan el tiempo (y, por tanto, la complejidad) de un algoritmo en un computador cuántico\n",
        "\n",
        "Los valores concretos dependen de la tecnología:\n",
        "\n",
        "  - De decenas de $\\mu s$ a milisegundos\n",
        "\n",
        "\n",
        "### Matrices de densidad y estados mezcla\n",
        "\n",
        "Los cúbits que venimos usando (y seguiremos usando) se dice que están en un estado \"puro\": se pueden expresar mediante un vector de estado.\n",
        "\n",
        "Debido al ruido, el estado de los cúbits puede cambian a un estado indeseado, denominado estado \"mezcla\" (_mixed state_):\n",
        "\n",
        "- Un estado mezcla es una combinación de estados puros con diferentes probabilidades para cada estado\n",
        "- Son estados indeseables, pues se reduce la información que proporcionan\n",
        "\n",
        "Una matriz de densidad permite expresar tanto los estados puros como los estados mezcla.\n",
        "\n",
        "#### Propiedades de la matriz de densidad\n",
        "Una matriz de densidad $\\rho$ es una matriz cuadrada con las siguientes propiedades:\n",
        "\n",
        "- Es hermitiana $\\Rightarrow$ sus autovalores $\\lambda_i \\in \\mathbb{R}$\n",
        "- Su _traza_ (suma de los elementos de la diagonal o suma de los autovalores) es 1: $\\mathrm{tr}(\\rho) = \\sum_i \\lambda_i = 1$\n",
        "- Es un operador positivo, es decir, para cualquier vector $|v\\rangle$ se tiene que $\\langle v|\\rho|v\\rangle \\ge 0$ $\\Rightarrow$ sus autovalores son todos $\\lambda_i \\ge 0$\n",
        "\n",
        "Por lo tanto, tendremos que $0 \\le \\lambda_i \\le 1, \\forall i$\n",
        "\n",
        "Dada esta propiedades, una matriz de densidad es diagonalizable y por el teorema de descomposición espectral podemos escribir:\n",
        "\n",
        "$$\n",
        "\\rho = \\sum_i \\lambda_i|v_i\\rangle\\langle v_i|\n",
        "$$\n",
        "siendo $\\lambda_i$ y $|v_i\\rangle$ los autovalores y autovectores de $\\rho$.\n",
        "\n",
        "#### Estados puros y matriz de densidad\n",
        "\n",
        "La matriz de densidad de un estado puro $|\\psi\\rangle$ se optiene como:\n",
        "\n",
        "$$\n",
        "\\rho = |\\psi\\rangle\\langle\\psi|\n",
        "$$\n",
        "\n",
        "Así, para 1 cúbit, la matriz de densidad de un estado $|\\psi\\rangle = a_0|0\\rangle + a_1|1\\rangle$ será\n",
        "\n",
        "$$\n",
        "\\rho = |\\psi\\rangle\\langle\\psi| =\n",
        "\\begin{bmatrix}\n",
        "a_0 \\\\ a_1\n",
        "\\end{bmatrix}\n",
        "\\begin{bmatrix}\n",
        "a^\\ast_0 & a^\\ast_1\n",
        "\\end{bmatrix} =\n",
        "\\begin{bmatrix}\n",
        "a_0a^\\ast_0 & a_0a^\\ast_1\\\\\n",
        "a_1a^\\ast_0 & a_1a^\\ast_1\n",
        "\\end{bmatrix} =\n",
        "a_0a^\\ast_0|0\\rangle\\langle 0|+\n",
        "a_0a^\\ast_1|0\\rangle\\langle 1|+\n",
        "a_1a^\\ast_0|1\\rangle\\langle 0|+\n",
        "a_1a^\\ast_1|1\\rangle\\langle 1|\n",
        "$$\n",
        "\n",
        "Se tiene entonces que $\\mathrm{tr}(\\rho) = |a_0|^2 + |a_1|^2 = 1$.\n",
        "\n",
        "Se puede demostrar que la matriz de densidad de un estado puro se puede escribir, en función de las matrices de Pauli y de las coordenadas cartesianas del estado en la esfera de Bloch, como:\n",
        "\n",
        "$$\n",
        "\\rho = \\tfrac{1}{2}(\\mathbb{I}+r_x\\sigma_x+r_y\\sigma_y+r_z\\sigma_z) =\n",
        " \\frac{1}{2}\\begin{bmatrix}\n",
        "1+r_z & r_x-ir_y\\\\\n",
        "r_x+ir_y & 1-r_z\n",
        "\\end{bmatrix}\n",
        "$$\n",
        "\n",
        "donde:\n",
        "\n",
        "$$\n",
        "\\vec{r} = \\begin{pmatrix}\n",
        "r_x\\\\r_y\\\\r_z\n",
        "\\end{pmatrix} =\n",
        "\\begin{pmatrix}\n",
        "\\sin\\theta\\cos\\phi\\\\\\sin\\theta\\sin\\phi\\\\\\cos\\theta\n",
        "\\end{pmatrix}=\n",
        "\\begin{pmatrix}\n",
        "\\langle \\sigma_x\\rangle\\\\\\langle \\sigma_y\\rangle\\\\\\langle \\sigma_z\\rangle\n",
        "\\end{pmatrix}\n",
        "$$\n",
        "\n",
        "A partir de la ecuación anterior de $\\rho$, es fácil verificar que podemos escribir $\\vec{r}$ como:\n",
        "\n",
        "$$\n",
        "\\vec{r} = \\begin{pmatrix}\n",
        "\\mathrm{tr}(\\sigma_x\\rho)\\\\\\mathrm{tr}(\\sigma_y\\rho)\\\\\\mathrm{tr}(\\sigma_z\\rho)\n",
        "\\end{pmatrix}\n",
        "$$\n",
        "\n",
        "----------------------------\n",
        "\n",
        "**Ejemplos**\n",
        "\n",
        "- Matriz de densidad del estado $|0\\rangle$:\n",
        "\n",
        "$$\n",
        "\\rho = |0\\rangle\\langle0| =\n",
        "\\begin{bmatrix}\n",
        "1 \\\\ 0\n",
        "\\end{bmatrix}\n",
        "\\begin{bmatrix}\n",
        "1 & 0\n",
        "\\end{bmatrix}=\n",
        "\\begin{bmatrix}\n",
        "1 & 0\\\\ 0 & 0\n",
        "\\end{bmatrix}\n",
        "$$\n",
        "\n",
        "- Matriz de densidad del estado $|-i\\rangle = \\tfrac{1}{\\sqrt{2}}(|0\\rangle-i|1\\rangle)$\n",
        "\n",
        "$$\n",
        "\\rho = |\\!-i\\rangle\\langle-i| =\n",
        "\\frac{1}{2}\\begin{bmatrix}\n",
        "1 \\\\ -i\n",
        "\\end{bmatrix}\n",
        "\\begin{bmatrix}\n",
        "1 & i\n",
        "\\end{bmatrix}=\n",
        "\\frac{1}{2}\\begin{bmatrix}\n",
        "1 & i\\\\ -i & 1\n",
        "\\end{bmatrix} =\n",
        "\\frac{1}{2}(|0\\rangle\\langle0| +i |0\\rangle\\langle1| -i|1\\rangle\\langle0| + |1\\rangle\\langle1|)\n",
        "$$\n",
        "\n",
        "- Matriz de densidad del estado $|\\!+-\\rangle = \\tfrac{1}{\\sqrt{2}}(|0\\rangle+|1\\rangle)\\otimes \\tfrac{1}{\\sqrt{2}}(|0\\rangle-|1\\rangle) = \\tfrac{1}{2}(|00\\rangle-|01\\rangle+|01\\rangle-|11\\rangle)$\n",
        "\n",
        "$$\n",
        "\\rho = |\\!+-\\rangle\\langle+-| =\n",
        "\\frac{1}{4}\\begin{bmatrix}\n",
        "+1 \\\\ -1 \\\\ +1 \\\\ -1\n",
        "\\end{bmatrix}\n",
        "\\begin{bmatrix}\n",
        "+1 & -1 & +1 & -1\n",
        "\\end{bmatrix}=\n",
        "\\frac{1}{4}\\begin{bmatrix}\n",
        "+1 & -1 & +1 & -1 \\\\\n",
        "-1 & +1 & -1 & +1 \\\\\n",
        "+1 & -1 & +1 & -1 \\\\\n",
        "-1 & +1 & -1 & +1\n",
        "\\end{bmatrix}\n",
        "$$\n",
        "\n",
        "----------------------------\n",
        "\n",
        "Todas estas matrices tienen un autovalor igual a 1 y el resto 0. Así que, además de verificarse que $\\mathrm{tr}(\\rho) = 1$ se cumple que:\n",
        "\n",
        "$$\n",
        "\\mathrm{tr}(\\rho^2) = \\sum_i \\lambda_i^2 = 1\n",
        "$$\n",
        "\n",
        "#### Estados mezcla\n",
        "\n",
        "Los autovalores de las matrices de densidad de estados mezcla verifican que $\\lambda_i \\lt 1, \\forall i$, por lo que, además de verificarse que $\\mathrm{tr}(\\rho) = 1$, se cumple que:\n",
        "\n",
        "$$\n",
        "\\mathrm{tr}(\\rho^2) = \\sum_i \\lambda_i^2 \\lt 1\n",
        "$$\n",
        "\n",
        "La matriz de densidad de un estado mezcla tiene varios autovalores menores de 1.\n",
        "\n",
        "En general, dado un conjunto de estados puros $\\{|\\psi_i\\rangle\\}$, la matriz de densidad de una mezcla de los mismos viene dada por:\n",
        "\n",
        "$$\n",
        "\\rho \\equiv \\sum_i p_i |\\psi_i\\rangle\\langle\\psi_i|\n",
        "$$\n",
        "\n",
        "donde los valores $p_i$ corresponden a probabilidades clásicas, verificando que $0\\leq p_i < 1$ y $\\sum_i p_i = 1$.\n",
        "\n",
        "----------------------------\n",
        "\n",
        "**Ejemplo**\n",
        "\n",
        "- Matriz de densidad de un estado mezcla de $|0\\rangle$ y $|1\\rangle$, con igual probabilidad:\n",
        "\n",
        "$$\n",
        "\\rho = \\frac{1}{2}|0\\rangle\\langle0| + \\frac{1}{2}|1\\rangle\\langle1| = \\frac{1}{2}\\begin{bmatrix}\n",
        "1 & 0\\\\ 0 & 1\n",
        "\\end{bmatrix} = \\frac{\\mathbb{I}}{2}\n",
        "$$\n",
        "\n",
        "Este estado se denomina _maximally mixed state_ y no proporciona ninguna información.\n",
        "\n",
        "---------------------\n",
        "\n",
        "En general, la matriz de densidad de un estado mezcla de $|0\\rangle$ y $|1\\rangle$ con probabilidad $0 < p < 1$ de estar en $|0\\rangle$ es:\n",
        "\n",
        "$$\n",
        "\\rho = p|0\\rangle\\langle0| + (1-p)|1\\rangle\\langle1| =\n",
        "\\begin{bmatrix}\n",
        "p & 0\\\\ 0 & 1-p\n",
        "\\end{bmatrix}\n",
        "$$\n",
        "\n",
        "Si consideramos este estado como un vector en la esfera de Bloch, sus coordenadas cartesianas vendrán dadas por:\n",
        "\n",
        "$$\n",
        "\\vec{r} = \\begin{pmatrix}\n",
        "\\mathrm{tr}(\\sigma_x\\rho)\\\\\\mathrm{tr}(\\sigma_y\\rho)\\\\\\mathrm{tr}(\\sigma_z\\rho)\n",
        "\\end{pmatrix}\n",
        "$$\n",
        "\n",
        "Operando para $\\rho$ tenemos:\n",
        "\n",
        "$$\n",
        "\\begin{aligned}\n",
        "\\mathrm{tr}(\\sigma_x\\rho) &=\n",
        "\\mathrm{tr}\\left(\n",
        "\\begin{bmatrix}\n",
        "0 & 1\\\\ 1 & 0\n",
        "\\end{bmatrix}\n",
        "\\begin{bmatrix}\n",
        "p & 0\\\\ 0 & 1-p\n",
        "\\end{bmatrix}\n",
        "\\right) = 0\\\\[5pt]\n",
        "\\mathrm{tr}(\\sigma_y\\rho) &=\n",
        "\\mathrm{tr}\\left(\n",
        "\\begin{bmatrix}\n",
        "0 & -i\\\\ i & 0\n",
        "\\end{bmatrix}\n",
        "\\begin{bmatrix}\n",
        "p & 0\\\\ 0 & 1-p\n",
        "\\end{bmatrix}\n",
        "\\right) = 0\\\\[5pt]\n",
        "\\mathrm{tr}(\\sigma_z\\rho) &=\n",
        "\\mathrm{tr}\\left(\n",
        "\\begin{bmatrix}\n",
        "1 & 0\\\\ 0 & -1\n",
        "\\end{bmatrix}\n",
        "\\begin{bmatrix}\n",
        "p & 0\\\\ 0 & 1-p\n",
        "\\end{bmatrix}\n",
        "\\right) =\n",
        "\\mathrm{tr}\\left(\n",
        "\\begin{bmatrix}\n",
        "p & 0\\\\ 0 & p-1\n",
        "\\end{bmatrix}\n",
        "\\right) =\n",
        "2p-1\\\\\n",
        "\\end{aligned}\n",
        "$$\n",
        "\n",
        "Por tanto:\n",
        "\n",
        "$$\n",
        "\\vec{r} = \\begin{pmatrix}\n",
        "0\\\\0\\\\2p-1\n",
        "\\end{pmatrix}\n",
        "$$\n",
        "\n",
        "Se trata de un vector sobre el eje Z y de longitud $r_z\\in(-1,1)$:\n",
        "\n",
        "<center><img src=\"https://drive.google.com/uc?export=view&id=1vGYdIxyPg4NpGKu7az7yzK2lWLyJgAF_\" alt=\"Esfera de Bloch de un estado mezcla\" width=\"300\"/></center>\n",
        "\n",
        "\n",
        "En general, los estados mezcla van a corresponder a vectores en el interior de la esfera de Bloch, con $|\\vec{r}|<1$"
      ],
      "metadata": {
        "id": "QHfY0YYNipD2"
      }
    },
    {
      "cell_type": "code",
      "source": [],
      "metadata": {
        "id": "DqMFvuqsQEGN"
      },
      "execution_count": null,
      "outputs": []
    }
  ]
}